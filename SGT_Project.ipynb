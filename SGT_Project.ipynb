{
 "cells": [
  {
   "cell_type": "markdown",
   "metadata": {},
   "source": [
    "## **Python and Big Data Analytics Course Project**\n",
    "\n",
    "## *Agricultural Production Analysis*\n",
    "\n",
    "<img src=\"https://cdn.pixabay.com/photo/2014/12/11/02/55/cereals-563796__340.jpg\" width=1200  height=450/>\n",
    "\n",
    "Kristine Dege & Grazina Statkevičiūtė\n",
    "\n"
   ]
  },
  {
   "cell_type": "markdown",
   "metadata": {},
   "source": [
    "##### **The Dataset used in the Course Project is downloaded from the website https://data.world/agriculture/ and include crop statistics for 173 products in European countries**.\n",
    "##### Data covering the following categories: Crops Primary, Fibre Crops Primary, Cereals, Coarse Grain, Citrus Fruit, Fruit, Jute & Jute-like Fibres, Oilcakes Equivalent, Oil crops Primary, Pulses, Roots and Tubers, Treenuts and Vegetables, and Melons. Data are expressed in terms of area harvested, production quantity, yield and seed quantity. \n",
    "##### Data source: The Food and Agriculture Organization of the United Nations (FAO).\n",
    "\n",
    "##### The objective of the Project is to explore, clean and analyse data for crop production in European countries.\n"
   ]
  },
  {
   "cell_type": "code",
   "execution_count": null,
   "metadata": {},
   "outputs": [],
   "source": [
    "# *The full path used to get the dataset download link:*\n",
    "# * browser = webdriver.Edge('C:/Users/Kristine/Drivers/msedgedriver.exe')\n",
    "# * time.sleep(2)\n",
    "# * url = 'https://data.world/agriculture/'\n",
    "# * browser.get(url)\n",
    "# * dataset_button = browser.find_element(By.XPATH, '//*[@id=\"profile_view.main_tabs-pane-overview\"]/div/div/div[1]/div/ul/li[2]/div').click() *# Click on Datasets button.*\n",
    "# * crop_pr_but = browser.find_element(By.XPATH, '//*[@id=\"profile_view.main_tabs-pane-resources\"]/div/div/div[2]/div[2]/div/div/div[9]/div/div[2]/div[1]/a').click() *# Click Crop_Production datasets button.  Overview and discription of datasets are available.*\n",
    "# * crop_ds = browser.find_element(By.XPATH, '//*[@id=\"dataset_view.main_tabs-pane-details\"]/div/div/div[1]/div[4]/div[8]/div/div/div[1]/div/div[1]/a[2]/span').click() *# In case you are not a registered user then sign-up model will be opened. There is an option to proceed with Google/ Facebook/ GitHub/ Twitter account.*\n",
    "\n",
    "# * browser.find_element(By.XPATH, '//*[@id=\"create_user.email\"]').send_keys(email)  \n",
    "# * browser.find_element(By.XPATH, '//*[@id=\"create_user.displayName\"]').send_keys(Name)\n",
    "# * browser.find_element(By.XPATH, '//*[@id=\"create_user.agentid\"]').send_keys(Username)\n",
    "# * browser.find_element(By.XPATH, '//*[@id=\"create_user.password1\"]').send_keys(Password)\n",
    "# * browser.find_element(By.XPATH, '/html/body/div[13]/div[2]/div/div/div/div/div[2]/div/div/div/form/button').click() *# Click on Continue button.*\n",
    "# * browser.find_element(By.XPATH, '/html/body/div[2]/div[2]/div/div/div/div/div[2]/a').click() *# Click on button Create a Project.*\n",
    "# * browser.find_element(By.XPATH, '//*[@id=\"root\"]/div/div[2]/div[2]/div/div[1]/div[2]/div/div/div[4]/div/div/div/div/div[2]/div[1]/a').click() *# Now you should verify your e-mail address and then click on Crop Production dataset.*\n",
    "# * browser.find_element(By.XPATH, '//*[@id=\"dataset_view.main_tabs-pane-details\"]/div/div/div[1]/div[4]/div[8]/div/div/div[1]/div/div[1]/a[2]').click() *# Click on dataset Crop Production in Eastern Europe.*\n",
    "# * browser.find_element(By.XPATH, '//*[@id=\"file_renderer.modal_common.export_dropdown\"]/div/span[2]').click() *# Click on Download drop-down menu.*\n",
    "# * browser.find_element(By.XPATH, '/html/body/div[2]/div/ul/span[1]/li/a/div[2]/div[1]').click() *# Click on Share URL. Now you can copy the path to download csv file from web-site.*"
   ]
  },
  {
   "cell_type": "code",
   "execution_count": 43,
   "metadata": {},
   "outputs": [],
   "source": [
    "import pandas as pd\n",
    "import matplotlib.pyplot as plt\n",
    "import datetime as dt\n",
    "import seaborn as sns\n",
    "from folium.plugins import MarkerCluster\n",
    "import folium\n",
    "from geopy.geocoders import Nominatim\n",
    "import pycountry_convert as pc\n",
    "import numpy as np"
   ]
  },
  {
   "cell_type": "code",
   "execution_count": 44,
   "metadata": {},
   "outputs": [],
   "source": [
    "# df = pd.read_csv('https://query.data.world/s/zmbllbphuegmiqcjpgtnrl3xew2jxh')\n",
    "df= pd.read_csv(r'C:\\Users\\grazk\\Documents\\Git_project\\Final-project\\Production_Crops_E_Europe.csv')"
   ]
  },
  {
   "cell_type": "code",
   "execution_count": 45,
   "metadata": {},
   "outputs": [
    {
     "data": {
      "text/html": [
       "<div>\n",
       "<style scoped>\n",
       "    .dataframe tbody tr th:only-of-type {\n",
       "        vertical-align: middle;\n",
       "    }\n",
       "\n",
       "    .dataframe tbody tr th {\n",
       "        vertical-align: top;\n",
       "    }\n",
       "\n",
       "    .dataframe thead th {\n",
       "        text-align: right;\n",
       "    }\n",
       "</style>\n",
       "<table border=\"1\" class=\"dataframe\">\n",
       "  <thead>\n",
       "    <tr style=\"text-align: right;\">\n",
       "      <th></th>\n",
       "      <th>Area Code</th>\n",
       "      <th>Area</th>\n",
       "      <th>Item Code</th>\n",
       "      <th>Item</th>\n",
       "      <th>Element Code</th>\n",
       "      <th>Element</th>\n",
       "      <th>Unit</th>\n",
       "      <th>Y1961</th>\n",
       "      <th>Y1961F</th>\n",
       "      <th>Y1962</th>\n",
       "      <th>...</th>\n",
       "      <th>Y2015</th>\n",
       "      <th>Y2015F</th>\n",
       "      <th>Y2016</th>\n",
       "      <th>Y2016F</th>\n",
       "      <th>Y2017</th>\n",
       "      <th>Y2017F</th>\n",
       "      <th>Y2018</th>\n",
       "      <th>Y2018F</th>\n",
       "      <th>Y2019</th>\n",
       "      <th>Y2019F</th>\n",
       "    </tr>\n",
       "  </thead>\n",
       "  <tbody>\n",
       "    <tr>\n",
       "      <th>7040</th>\n",
       "      <td>174</td>\n",
       "      <td>Portugal</td>\n",
       "      <td>1753</td>\n",
       "      <td>Fibre Crops Primary</td>\n",
       "      <td>5510</td>\n",
       "      <td>Production</td>\n",
       "      <td>tonnes</td>\n",
       "      <td>381.0</td>\n",
       "      <td>A</td>\n",
       "      <td>393.0</td>\n",
       "      <td>...</td>\n",
       "      <td>NaN</td>\n",
       "      <td>A</td>\n",
       "      <td>NaN</td>\n",
       "      <td>A</td>\n",
       "      <td>NaN</td>\n",
       "      <td>A</td>\n",
       "      <td>NaN</td>\n",
       "      <td>NaN</td>\n",
       "      <td>NaN</td>\n",
       "      <td>NaN</td>\n",
       "    </tr>\n",
       "    <tr>\n",
       "      <th>6749</th>\n",
       "      <td>173</td>\n",
       "      <td>Poland</td>\n",
       "      <td>1720</td>\n",
       "      <td>Roots and Tubers, Total</td>\n",
       "      <td>5419</td>\n",
       "      <td>Yield</td>\n",
       "      <td>hg/ha</td>\n",
       "      <td>160340.0</td>\n",
       "      <td>Fc</td>\n",
       "      <td>129951.0</td>\n",
       "      <td>...</td>\n",
       "      <td>210207.0</td>\n",
       "      <td>Fc</td>\n",
       "      <td>286304.0</td>\n",
       "      <td>Fc</td>\n",
       "      <td>278503.0</td>\n",
       "      <td>Fc</td>\n",
       "      <td>251296.0</td>\n",
       "      <td>Fc</td>\n",
       "      <td>214283.0</td>\n",
       "      <td>Fc</td>\n",
       "    </tr>\n",
       "    <tr>\n",
       "      <th>8871</th>\n",
       "      <td>203</td>\n",
       "      <td>Spain</td>\n",
       "      <td>426</td>\n",
       "      <td>Carrots and turnips</td>\n",
       "      <td>5419</td>\n",
       "      <td>Yield</td>\n",
       "      <td>hg/ha</td>\n",
       "      <td>148031.0</td>\n",
       "      <td>Fc</td>\n",
       "      <td>145807.0</td>\n",
       "      <td>...</td>\n",
       "      <td>613964.0</td>\n",
       "      <td>Fc</td>\n",
       "      <td>603970.0</td>\n",
       "      <td>Fc</td>\n",
       "      <td>604972.0</td>\n",
       "      <td>Fc</td>\n",
       "      <td>583863.0</td>\n",
       "      <td>Fc</td>\n",
       "      <td>576162.0</td>\n",
       "      <td>Fc</td>\n",
       "    </tr>\n",
       "  </tbody>\n",
       "</table>\n",
       "<p>3 rows × 125 columns</p>\n",
       "</div>"
      ],
      "text/plain": [
       "      Area Code      Area  Item Code                     Item  Element Code  \\\n",
       "7040        174  Portugal       1753      Fibre Crops Primary          5510   \n",
       "6749        173    Poland       1720  Roots and Tubers, Total          5419   \n",
       "8871        203     Spain        426      Carrots and turnips          5419   \n",
       "\n",
       "         Element    Unit     Y1961 Y1961F     Y1962  ...     Y2015  Y2015F  \\\n",
       "7040  Production  tonnes     381.0      A     393.0  ...       NaN       A   \n",
       "6749       Yield   hg/ha  160340.0     Fc  129951.0  ...  210207.0      Fc   \n",
       "8871       Yield   hg/ha  148031.0     Fc  145807.0  ...  613964.0      Fc   \n",
       "\n",
       "         Y2016  Y2016F     Y2017  Y2017F     Y2018  Y2018F     Y2019  Y2019F  \n",
       "7040       NaN       A       NaN       A       NaN     NaN       NaN     NaN  \n",
       "6749  286304.0      Fc  278503.0      Fc  251296.0      Fc  214283.0      Fc  \n",
       "8871  603970.0      Fc  604972.0      Fc  583863.0      Fc  576162.0      Fc  \n",
       "\n",
       "[3 rows x 125 columns]"
      ]
     },
     "execution_count": 45,
     "metadata": {},
     "output_type": "execute_result"
    }
   ],
   "source": [
    "df.sample(3)"
   ]
  },
  {
   "cell_type": "code",
   "execution_count": 46,
   "metadata": {},
   "outputs": [
    {
     "data": {
      "text/plain": [
       "(10557, 125)"
      ]
     },
     "execution_count": 46,
     "metadata": {},
     "output_type": "execute_result"
    }
   ],
   "source": [
    "df.shape"
   ]
  },
  {
   "cell_type": "code",
   "execution_count": 47,
   "metadata": {},
   "outputs": [
    {
     "data": {
      "text/html": [
       "<div>\n",
       "<style scoped>\n",
       "    .dataframe tbody tr th:only-of-type {\n",
       "        vertical-align: middle;\n",
       "    }\n",
       "\n",
       "    .dataframe tbody tr th {\n",
       "        vertical-align: top;\n",
       "    }\n",
       "\n",
       "    .dataframe thead th {\n",
       "        text-align: right;\n",
       "    }\n",
       "</style>\n",
       "<table border=\"1\" class=\"dataframe\">\n",
       "  <thead>\n",
       "    <tr style=\"text-align: right;\">\n",
       "      <th></th>\n",
       "      <th>Area Code</th>\n",
       "      <th>Area</th>\n",
       "      <th>Item Code</th>\n",
       "      <th>Item</th>\n",
       "      <th>Element Code</th>\n",
       "      <th>Element</th>\n",
       "      <th>Unit</th>\n",
       "      <th>Y1961</th>\n",
       "      <th>Y1962</th>\n",
       "      <th>Y1963</th>\n",
       "      <th>...</th>\n",
       "      <th>Y2010</th>\n",
       "      <th>Y2011</th>\n",
       "      <th>Y2012</th>\n",
       "      <th>Y2013</th>\n",
       "      <th>Y2014</th>\n",
       "      <th>Y2015</th>\n",
       "      <th>Y2016</th>\n",
       "      <th>Y2017</th>\n",
       "      <th>Y2018</th>\n",
       "      <th>Y2019</th>\n",
       "    </tr>\n",
       "  </thead>\n",
       "  <tbody>\n",
       "    <tr>\n",
       "      <th>0</th>\n",
       "      <td>3</td>\n",
       "      <td>Albania</td>\n",
       "      <td>515</td>\n",
       "      <td>Apples</td>\n",
       "      <td>5312</td>\n",
       "      <td>Area harvested</td>\n",
       "      <td>ha</td>\n",
       "      <td>NaN</td>\n",
       "      <td>NaN</td>\n",
       "      <td>NaN</td>\n",
       "      <td>...</td>\n",
       "      <td>3913.0</td>\n",
       "      <td>3450.0</td>\n",
       "      <td>3719.0</td>\n",
       "      <td>3838.0</td>\n",
       "      <td>3863.0</td>\n",
       "      <td>4008.0</td>\n",
       "      <td>4230.0</td>\n",
       "      <td>4346.0</td>\n",
       "      <td>4294.0</td>\n",
       "      <td>4407.0</td>\n",
       "    </tr>\n",
       "    <tr>\n",
       "      <th>1</th>\n",
       "      <td>3</td>\n",
       "      <td>Albania</td>\n",
       "      <td>515</td>\n",
       "      <td>Apples</td>\n",
       "      <td>5419</td>\n",
       "      <td>Yield</td>\n",
       "      <td>hg/ha</td>\n",
       "      <td>NaN</td>\n",
       "      <td>NaN</td>\n",
       "      <td>NaN</td>\n",
       "      <td>...</td>\n",
       "      <td>139545.0</td>\n",
       "      <td>185507.0</td>\n",
       "      <td>191718.0</td>\n",
       "      <td>197316.0</td>\n",
       "      <td>212426.0</td>\n",
       "      <td>228882.0</td>\n",
       "      <td>240028.0</td>\n",
       "      <td>221671.0</td>\n",
       "      <td>252387.0</td>\n",
       "      <td>240374.0</td>\n",
       "    </tr>\n",
       "    <tr>\n",
       "      <th>2</th>\n",
       "      <td>3</td>\n",
       "      <td>Albania</td>\n",
       "      <td>515</td>\n",
       "      <td>Apples</td>\n",
       "      <td>5510</td>\n",
       "      <td>Production</td>\n",
       "      <td>tonnes</td>\n",
       "      <td>10004.0</td>\n",
       "      <td>8039.0</td>\n",
       "      <td>7931.0</td>\n",
       "      <td>...</td>\n",
       "      <td>54604.0</td>\n",
       "      <td>64000.0</td>\n",
       "      <td>71300.0</td>\n",
       "      <td>75730.0</td>\n",
       "      <td>82060.0</td>\n",
       "      <td>91736.0</td>\n",
       "      <td>101532.0</td>\n",
       "      <td>96338.0</td>\n",
       "      <td>108375.0</td>\n",
       "      <td>105933.0</td>\n",
       "    </tr>\n",
       "  </tbody>\n",
       "</table>\n",
       "<p>3 rows × 66 columns</p>\n",
       "</div>"
      ],
      "text/plain": [
       "   Area Code     Area  Item Code    Item  Element Code         Element  \\\n",
       "0          3  Albania        515  Apples          5312  Area harvested   \n",
       "1          3  Albania        515  Apples          5419           Yield   \n",
       "2          3  Albania        515  Apples          5510      Production   \n",
       "\n",
       "     Unit    Y1961   Y1962   Y1963  ...     Y2010     Y2011     Y2012  \\\n",
       "0      ha      NaN     NaN     NaN  ...    3913.0    3450.0    3719.0   \n",
       "1   hg/ha      NaN     NaN     NaN  ...  139545.0  185507.0  191718.0   \n",
       "2  tonnes  10004.0  8039.0  7931.0  ...   54604.0   64000.0   71300.0   \n",
       "\n",
       "      Y2013     Y2014     Y2015     Y2016     Y2017     Y2018     Y2019  \n",
       "0    3838.0    3863.0    4008.0    4230.0    4346.0    4294.0    4407.0  \n",
       "1  197316.0  212426.0  228882.0  240028.0  221671.0  252387.0  240374.0  \n",
       "2   75730.0   82060.0   91736.0  101532.0   96338.0  108375.0  105933.0  \n",
       "\n",
       "[3 rows x 66 columns]"
      ]
     },
     "execution_count": 47,
     "metadata": {},
     "output_type": "execute_result"
    }
   ],
   "source": [
    "# Deleting all forecast columns as they are empty\n",
    "\n",
    "for col in df.columns:\n",
    "    if 'F' in col:\n",
    "        del df[col]\n",
    "   \n",
    "df.head(3)"
   ]
  },
  {
   "cell_type": "code",
   "execution_count": 48,
   "metadata": {},
   "outputs": [],
   "source": [
    "#Changing years column name from'Y2010' to numeric only\n",
    "\n",
    "df.columns = map(lambda x : x.replace(\"Y\", \"\"), df.columns)"
   ]
  },
  {
   "cell_type": "code",
   "execution_count": 49,
   "metadata": {},
   "outputs": [],
   "source": [
    "#Dropping 4 columns as they won't be used in analysis\n",
    "\n",
    "df.drop(['Area Code', 'Item Code', 'Element', 'Element Code'], axis=1, inplace=True)"
   ]
  },
  {
   "cell_type": "code",
   "execution_count": 50,
   "metadata": {},
   "outputs": [],
   "source": [
    "#Reshaping dataset for analysis and plotting\n",
    "\n",
    "df_melted = (df.melt(id_vars=['Area', 'Item', 'Unit'],var_name='Year')\n",
    "                    .set_index(['Area', 'Item', 'Year', 'Unit'])\n",
    "                    .squeeze()\n",
    "                    .unstack()\n",
    "                    .reset_index())"
   ]
  },
  {
   "cell_type": "code",
   "execution_count": 51,
   "metadata": {},
   "outputs": [
    {
     "data": {
      "text/plain": [
       "Index(['Area', 'Item', 'Year', 'ha', 'hg/ha', 'tonnes'], dtype='object', name='Unit')"
      ]
     },
     "execution_count": 51,
     "metadata": {},
     "output_type": "execute_result"
    }
   ],
   "source": [
    "df_melted.columns"
   ]
  },
  {
   "cell_type": "code",
   "execution_count": 52,
   "metadata": {},
   "outputs": [],
   "source": [
    "# Renaming columns\n",
    "\n",
    "df_melted.columns = ['Country', 'Item', 'Year', 'Area_ha', 'Yield_hg_ha', 'Production_t']"
   ]
  },
  {
   "cell_type": "code",
   "execution_count": 53,
   "metadata": {},
   "outputs": [
    {
     "data": {
      "text/html": [
       "<div>\n",
       "<style scoped>\n",
       "    .dataframe tbody tr th:only-of-type {\n",
       "        vertical-align: middle;\n",
       "    }\n",
       "\n",
       "    .dataframe tbody tr th {\n",
       "        vertical-align: top;\n",
       "    }\n",
       "\n",
       "    .dataframe thead th {\n",
       "        text-align: right;\n",
       "    }\n",
       "</style>\n",
       "<table border=\"1\" class=\"dataframe\">\n",
       "  <thead>\n",
       "    <tr style=\"text-align: right;\">\n",
       "      <th></th>\n",
       "      <th>index</th>\n",
       "      <th>Country</th>\n",
       "      <th>Item</th>\n",
       "      <th>Year</th>\n",
       "      <th>Area_ha</th>\n",
       "      <th>Yield_hg_ha</th>\n",
       "      <th>Production_t</th>\n",
       "    </tr>\n",
       "  </thead>\n",
       "  <tbody>\n",
       "    <tr>\n",
       "      <th>0</th>\n",
       "      <td>0</td>\n",
       "      <td>Albania</td>\n",
       "      <td>Apples</td>\n",
       "      <td>1961</td>\n",
       "      <td>NaN</td>\n",
       "      <td>NaN</td>\n",
       "      <td>10004.0</td>\n",
       "    </tr>\n",
       "    <tr>\n",
       "      <th>1</th>\n",
       "      <td>1</td>\n",
       "      <td>Albania</td>\n",
       "      <td>Apples</td>\n",
       "      <td>1962</td>\n",
       "      <td>NaN</td>\n",
       "      <td>NaN</td>\n",
       "      <td>8039.0</td>\n",
       "    </tr>\n",
       "    <tr>\n",
       "      <th>2</th>\n",
       "      <td>2</td>\n",
       "      <td>Albania</td>\n",
       "      <td>Apples</td>\n",
       "      <td>1963</td>\n",
       "      <td>NaN</td>\n",
       "      <td>NaN</td>\n",
       "      <td>7931.0</td>\n",
       "    </tr>\n",
       "  </tbody>\n",
       "</table>\n",
       "</div>"
      ],
      "text/plain": [
       "   index  Country    Item  Year  Area_ha  Yield_hg_ha  Production_t\n",
       "0      0  Albania  Apples  1961      NaN          NaN       10004.0\n",
       "1      1  Albania  Apples  1962      NaN          NaN        8039.0\n",
       "2      2  Albania  Apples  1963      NaN          NaN        7931.0"
      ]
     },
     "execution_count": 53,
     "metadata": {},
     "output_type": "execute_result"
    }
   ],
   "source": [
    "df_melted.reset_index().head(3)"
   ]
  },
  {
   "cell_type": "code",
   "execution_count": 54,
   "metadata": {},
   "outputs": [
    {
     "data": {
      "text/plain": [
       "(222312, 6)"
      ]
     },
     "execution_count": 54,
     "metadata": {},
     "output_type": "execute_result"
    }
   ],
   "source": [
    "df_melted.shape"
   ]
  },
  {
   "cell_type": "code",
   "execution_count": 55,
   "metadata": {},
   "outputs": [],
   "source": [
    "# Dropping rows where NaN values are in all three columns\n",
    "\n",
    "df_melted.dropna(subset = ['Area_ha', 'Yield_hg_ha', 'Production_t'], how='all', inplace=True)"
   ]
  },
  {
   "cell_type": "code",
   "execution_count": 56,
   "metadata": {},
   "outputs": [],
   "source": [
    "# As some product items (for example apples, mushrooms) do not have values in columns Area_ha and Yield hg/ha\n",
    "# but only production in tonnes then it's reasonable to change these NaN values to 0\n",
    "\n",
    "df_melted.replace(np.nan, \"0\", inplace = True)"
   ]
  },
  {
   "cell_type": "code",
   "execution_count": 57,
   "metadata": {},
   "outputs": [
    {
     "name": "stdout",
     "output_type": "stream",
     "text": [
      "<class 'pandas.core.frame.DataFrame'>\n",
      "Int64Index: 118660 entries, 0 to 222283\n",
      "Data columns (total 6 columns):\n",
      " #   Column        Non-Null Count   Dtype \n",
      "---  ------        --------------   ----- \n",
      " 0   Country       118660 non-null  object\n",
      " 1   Item          118660 non-null  object\n",
      " 2   Year          118660 non-null  object\n",
      " 3   Area_ha       118660 non-null  object\n",
      " 4   Yield_hg_ha   118660 non-null  object\n",
      " 5   Production_t  118660 non-null  object\n",
      "dtypes: object(6)\n",
      "memory usage: 6.3+ MB\n"
     ]
    }
   ],
   "source": [
    "df_melted.info()    #All columns have same dtype"
   ]
  },
  {
   "cell_type": "code",
   "execution_count": 58,
   "metadata": {},
   "outputs": [],
   "source": [
    "convert_dict = {\n",
    "                'Area_ha': int,\n",
    "                'Yield_hg_ha': int,\n",
    "                'Production_t': int\n",
    "                }\n",
    " \n",
    "df_melted = df_melted.astype(convert_dict) #Converting dtype to appropriate"
   ]
  },
  {
   "cell_type": "code",
   "execution_count": 59,
   "metadata": {},
   "outputs": [],
   "source": [
    "df_melted['Year'] = pd.to_datetime(df_melted['Year']).dt.year"
   ]
  },
  {
   "cell_type": "code",
   "execution_count": 60,
   "metadata": {},
   "outputs": [],
   "source": [
    "# Adding new column to see yield production t/ha\n",
    "\n",
    "df_melted['Yield_t_ha'] = round(df_melted.apply(lambda row: (row.Yield_hg_ha / 10_000), axis = 1), 2)"
   ]
  },
  {
   "cell_type": "code",
   "execution_count": 61,
   "metadata": {},
   "outputs": [
    {
     "data": {
      "text/html": [
       "<div>\n",
       "<style scoped>\n",
       "    .dataframe tbody tr th:only-of-type {\n",
       "        vertical-align: middle;\n",
       "    }\n",
       "\n",
       "    .dataframe tbody tr th {\n",
       "        vertical-align: top;\n",
       "    }\n",
       "\n",
       "    .dataframe thead th {\n",
       "        text-align: right;\n",
       "    }\n",
       "</style>\n",
       "<table border=\"1\" class=\"dataframe\">\n",
       "  <thead>\n",
       "    <tr style=\"text-align: right;\">\n",
       "      <th></th>\n",
       "      <th>Year</th>\n",
       "      <th>Area_ha</th>\n",
       "      <th>Yield_hg_ha</th>\n",
       "      <th>Production_t</th>\n",
       "      <th>Yield_t_ha</th>\n",
       "    </tr>\n",
       "  </thead>\n",
       "  <tbody>\n",
       "    <tr>\n",
       "      <th>count</th>\n",
       "      <td>118,660.00</td>\n",
       "      <td>118,660.00</td>\n",
       "      <td>118,660.00</td>\n",
       "      <td>118,660.00</td>\n",
       "      <td>118,660.00</td>\n",
       "    </tr>\n",
       "    <tr>\n",
       "      <th>mean</th>\n",
       "      <td>1,993.72</td>\n",
       "      <td>240,676.11</td>\n",
       "      <td>165,737.91</td>\n",
       "      <td>1,012,989.45</td>\n",
       "      <td>16.57</td>\n",
       "    </tr>\n",
       "    <tr>\n",
       "      <th>std</th>\n",
       "      <td>16.96</td>\n",
       "      <td>2,423,433.90</td>\n",
       "      <td>1,972,491.98</td>\n",
       "      <td>5,417,701.25</td>\n",
       "      <td>197.25</td>\n",
       "    </tr>\n",
       "    <tr>\n",
       "      <th>min</th>\n",
       "      <td>1,961.00</td>\n",
       "      <td>0.00</td>\n",
       "      <td>0.00</td>\n",
       "      <td>0.00</td>\n",
       "      <td>0.00</td>\n",
       "    </tr>\n",
       "    <tr>\n",
       "      <th>25%</th>\n",
       "      <td>1,980.00</td>\n",
       "      <td>439.00</td>\n",
       "      <td>12,854.00</td>\n",
       "      <td>3,153.75</td>\n",
       "      <td>1.29</td>\n",
       "    </tr>\n",
       "    <tr>\n",
       "      <th>50%</th>\n",
       "      <td>1,996.00</td>\n",
       "      <td>4,400.00</td>\n",
       "      <td>37,976.50</td>\n",
       "      <td>26,377.50</td>\n",
       "      <td>3.80</td>\n",
       "    </tr>\n",
       "    <tr>\n",
       "      <th>75%</th>\n",
       "      <td>2,008.00</td>\n",
       "      <td>35,132.25</td>\n",
       "      <td>132,545.00</td>\n",
       "      <td>234,678.50</td>\n",
       "      <td>13.25</td>\n",
       "    </tr>\n",
       "    <tr>\n",
       "      <th>max</th>\n",
       "      <td>2,019.00</td>\n",
       "      <td>125,150,000.00</td>\n",
       "      <td>244,995,000.00</td>\n",
       "      <td>213,687,000.00</td>\n",
       "      <td>24,499.50</td>\n",
       "    </tr>\n",
       "  </tbody>\n",
       "</table>\n",
       "</div>"
      ],
      "text/plain": [
       "             Year         Area_ha     Yield_hg_ha    Production_t  Yield_t_ha\n",
       "count  118,660.00      118,660.00      118,660.00      118,660.00  118,660.00\n",
       "mean     1,993.72      240,676.11      165,737.91    1,012,989.45       16.57\n",
       "std         16.96    2,423,433.90    1,972,491.98    5,417,701.25      197.25\n",
       "min      1,961.00            0.00            0.00            0.00        0.00\n",
       "25%      1,980.00          439.00       12,854.00        3,153.75        1.29\n",
       "50%      1,996.00        4,400.00       37,976.50       26,377.50        3.80\n",
       "75%      2,008.00       35,132.25      132,545.00      234,678.50       13.25\n",
       "max      2,019.00  125,150,000.00  244,995,000.00  213,687,000.00   24,499.50"
      ]
     },
     "execution_count": 61,
     "metadata": {},
     "output_type": "execute_result"
    }
   ],
   "source": [
    "df_melted.describe().apply(lambda s: s.apply('{:,.2f}'.format)) # Formatting describe function to more readable"
   ]
  },
  {
   "cell_type": "code",
   "execution_count": 62,
   "metadata": {},
   "outputs": [
    {
     "data": {
      "text/plain": [
       "(118660, 7)"
      ]
     },
     "execution_count": 62,
     "metadata": {},
     "output_type": "execute_result"
    }
   ],
   "source": [
    "df_melted.shape     # By dropping NaN values total number of rows reduced from 222_312 to 118_660"
   ]
  },
  {
   "cell_type": "code",
   "execution_count": 63,
   "metadata": {},
   "outputs": [
    {
     "data": {
      "text/html": [
       "<div>\n",
       "<style scoped>\n",
       "    .dataframe tbody tr th:only-of-type {\n",
       "        vertical-align: middle;\n",
       "    }\n",
       "\n",
       "    .dataframe tbody tr th {\n",
       "        vertical-align: top;\n",
       "    }\n",
       "\n",
       "    .dataframe thead th {\n",
       "        text-align: right;\n",
       "    }\n",
       "</style>\n",
       "<table border=\"1\" class=\"dataframe\">\n",
       "  <thead>\n",
       "    <tr style=\"text-align: right;\">\n",
       "      <th></th>\n",
       "      <th>Country</th>\n",
       "      <th>Item</th>\n",
       "      <th>Year</th>\n",
       "      <th>Area_ha</th>\n",
       "      <th>Yield_hg_ha</th>\n",
       "      <th>Production_t</th>\n",
       "      <th>Yield_t_ha</th>\n",
       "    </tr>\n",
       "  </thead>\n",
       "  <tbody>\n",
       "    <tr>\n",
       "      <th>206630</th>\n",
       "      <td>USSR</td>\n",
       "      <td>Plums and sloes</td>\n",
       "      <td>1973</td>\n",
       "      <td>270000</td>\n",
       "      <td>33111</td>\n",
       "      <td>894000</td>\n",
       "      <td>3.31</td>\n",
       "    </tr>\n",
       "    <tr>\n",
       "      <th>207761</th>\n",
       "      <td>USSR</td>\n",
       "      <td>Sugar beet</td>\n",
       "      <td>1983</td>\n",
       "      <td>3491000</td>\n",
       "      <td>234446</td>\n",
       "      <td>81845008</td>\n",
       "      <td>23.44</td>\n",
       "    </tr>\n",
       "    <tr>\n",
       "      <th>48047</th>\n",
       "      <td>Czechoslovakia</td>\n",
       "      <td>Spinach</td>\n",
       "      <td>1982</td>\n",
       "      <td>1222</td>\n",
       "      <td>100884</td>\n",
       "      <td>12328</td>\n",
       "      <td>10.09</td>\n",
       "    </tr>\n",
       "    <tr>\n",
       "      <th>88695</th>\n",
       "      <td>Hungary</td>\n",
       "      <td>Sunflower seed</td>\n",
       "      <td>1979</td>\n",
       "      <td>227974</td>\n",
       "      <td>18370</td>\n",
       "      <td>418793</td>\n",
       "      <td>1.84</td>\n",
       "    </tr>\n",
       "    <tr>\n",
       "      <th>142755</th>\n",
       "      <td>Poland</td>\n",
       "      <td>Raspberries</td>\n",
       "      <td>1995</td>\n",
       "      <td>12140</td>\n",
       "      <td>33295</td>\n",
       "      <td>40420</td>\n",
       "      <td>3.33</td>\n",
       "    </tr>\n",
       "  </tbody>\n",
       "</table>\n",
       "</div>"
      ],
      "text/plain": [
       "               Country             Item  Year  Area_ha  Yield_hg_ha  \\\n",
       "206630            USSR  Plums and sloes  1973   270000        33111   \n",
       "207761            USSR       Sugar beet  1983  3491000       234446   \n",
       "48047   Czechoslovakia          Spinach  1982     1222       100884   \n",
       "88695          Hungary   Sunflower seed  1979   227974        18370   \n",
       "142755          Poland      Raspberries  1995    12140        33295   \n",
       "\n",
       "        Production_t  Yield_t_ha  \n",
       "206630        894000        3.31  \n",
       "207761      81845008       23.44  \n",
       "48047          12328       10.09  \n",
       "88695         418793        1.84  \n",
       "142755         40420        3.33  "
      ]
     },
     "execution_count": 63,
     "metadata": {},
     "output_type": "execute_result"
    }
   ],
   "source": [
    "df_melted.sample(5)"
   ]
  },
  {
   "cell_type": "code",
   "execution_count": 64,
   "metadata": {},
   "outputs": [
    {
     "data": {
      "text/plain": [
       "137"
      ]
     },
     "execution_count": 64,
     "metadata": {},
     "output_type": "execute_result"
    }
   ],
   "source": [
    "df_melted['Item'].nunique()     #Dataset still contains all 137 product items"
   ]
  },
  {
   "cell_type": "code",
   "execution_count": 65,
   "metadata": {},
   "outputs": [
    {
     "name": "stdout",
     "output_type": "stream",
     "text": [
      "['Apples', 'Apricots', 'Barley', 'Beans, dry', 'Beans, green', 'Broad beans, horse beans, dry', 'Cabbages and other brassicas', 'Carrots and turnips', 'Cauliflowers and broccoli', 'Cereals, Total', 'Cherries', 'Cherries, sour', 'Chestnut', 'Chillies and peppers, green', 'Citrus Fruit, Total', 'Cucumbers and gherkins', 'Dates', 'Eggplants (aubergines)', 'Fibre Crops Primary', 'Figs', 'Fruit Primary', 'Fruit, citrus nes', 'Fruit, fresh nes', 'Garlic', 'Grapes', 'Hops', 'Leeks, other alliaceous vegetables', 'Lemons and limes', 'Lettuce and chicory', 'Maize', 'Melons, other (inc.cantaloupes)', 'Mushrooms and truffles', 'Nuts nes', 'Oats', 'Oilcrops', 'Oilcrops, Cake Equivalent', 'Oilcrops, Oil Equivalent', 'Okra', 'Olives', 'Onions, dry', 'Onions, shallots, green', 'Oranges', 'Peaches and nectarines', 'Pears', 'Peas, green', 'Plums and sloes', 'Potatoes', 'Pulses nes', 'Pulses, Total', 'Pumpkins, squash and gourds', 'Quinces', 'Rice, paddy', 'Rice, paddy (rice milled equivalent)', 'Roots and Tubers, Total', 'Rye', 'Seed cotton', 'Sorghum', 'Soybeans', 'Spices nes', 'Spinach', 'Strawberries', 'Sugar Crops Primary', 'Sugar beet', 'Sunflower seed', 'Tangerines, mandarins, clementines, satsumas', 'Tobacco, unmanufactured', 'Tomatoes', 'Treenuts, Total', 'Vegetables Primary', 'Vegetables, fresh nes', 'Vegetables, leguminous nes', 'Vetches', 'Watermelons', 'Wheat', 'Asparagus', 'Avocados', 'Bananas', 'Berries nes', 'Blueberries', 'Buckwheat', 'Cereals nes', 'Currants', 'Flax fibre and tow', 'Gooseberries', 'Grain, mixed', 'Grapefruit (inc. pomelos)', 'Hemp tow waste', 'Linseed', 'Lupins', 'Maize, green', 'Millet', 'Oilseeds nes', 'Peas, dry', 'Poppy seed', 'Rapeseed', 'Raspberries', 'Triticale', 'Walnuts, with shell', 'Cranberries', 'Hazelnuts, with shell', 'Almonds, with shell', 'Artichokes', 'Chicory roots', 'Fruit, pome nes', 'Fruit, tropical fresh nes', 'Kiwi fruit', 'Sweet potatoes', 'Anise, badian, fennel, coriander', 'Chick peas', 'Chillies and peppers, dry', 'Cow peas, dry', 'Castor oil seed', 'Fruit, stone nes', 'Groundnuts, with shell', 'Hempseed', 'Lentils', 'Melonseed', 'Mustard seed', 'Peppermint', 'Roots and tubers nes', 'Sesame seed', 'Carobs', 'Canary seed', 'Coconuts', 'String beans', 'Sugar cane', 'Pistachios', 'Safflower seed', 'Agave fibres nes', 'Persimmons', 'Pyrethrum, dried', 'Tea', 'Pineapples', 'Yams', 'Bastfibres, other', 'Coffee, green', 'Tung nuts']\n"
     ]
    }
   ],
   "source": [
    "item_list = df_melted['Item'].unique().tolist()\n",
    "print(item_list)"
   ]
  },
  {
   "cell_type": "code",
   "execution_count": 66,
   "metadata": {},
   "outputs": [
    {
     "data": {
      "text/plain": [
       "Roots and Tubers, Total         1934\n",
       "Potatoes                        1934\n",
       "Vegetables Primary              1875\n",
       "Tomatoes                        1875\n",
       "Cabbages and other brassicas    1846\n",
       "                                ... \n",
       "Tung nuts                         31\n",
       "Okra                              30\n",
       "Coffee, green                     28\n",
       "Coconuts                          27\n",
       "Agave fibres nes                   1\n",
       "Name: Item, Length: 137, dtype: int64"
      ]
     },
     "execution_count": 66,
     "metadata": {},
     "output_type": "execute_result"
    }
   ],
   "source": [
    "df_melted['Item'].value_counts()"
   ]
  },
  {
   "cell_type": "markdown",
   "metadata": {},
   "source": [
    "The most cultivated agriculture products are: potatoes, tomatoes, primary vegetables and cabbages.\n",
    "\n",
    "The less cultivated products in Europe are: tung nuts, green coffee, coconuts, agave fibres."
   ]
  },
  {
   "cell_type": "code",
   "execution_count": 67,
   "metadata": {},
   "outputs": [
    {
     "name": "stderr",
     "output_type": "stream",
     "text": [
      "C:\\Users\\grazk\\AppData\\Local\\Temp\\ipykernel_13140\\3853495159.py:3: FutureWarning: Indexing with multiple keys (implicitly converted to a tuple of keys) will be deprecated, use a list instead.\n",
      "  df_map = pd.DataFrame(df_melted.groupby(['Year', 'Country'], sort=True)['Production_t', 'Area_ha'].sum()).reset_index()\n"
     ]
    }
   ],
   "source": [
    "# Creating new dataframe for map plotting\n",
    "\n",
    "df_map = pd.DataFrame(df_melted.groupby(['Year', 'Country'], sort=True)['Production_t', 'Area_ha'].sum()).reset_index()"
   ]
  },
  {
   "cell_type": "code",
   "execution_count": 68,
   "metadata": {},
   "outputs": [
    {
     "data": {
      "text/plain": [
       "(1934, 4)"
      ]
     },
     "execution_count": 68,
     "metadata": {},
     "output_type": "execute_result"
    }
   ],
   "source": [
    "df_map.shape"
   ]
  },
  {
   "cell_type": "code",
   "execution_count": 69,
   "metadata": {},
   "outputs": [
    {
     "name": "stdout",
     "output_type": "stream",
     "text": [
      "45\n",
      "45\n"
     ]
    }
   ],
   "source": [
    "print(df_melted['Country'].nunique())\n",
    "print(df_map['Country'].nunique())"
   ]
  },
  {
   "cell_type": "code",
   "execution_count": 70,
   "metadata": {},
   "outputs": [],
   "source": [
    "# Converting country name (column 'Country') into continent name\n",
    "\n",
    "def convert(row):\n",
    "    try:\n",
    "        cn_code = pc.country_name_to_country_alpha2(row.Country, cn_name_format='default')\n",
    "        conti_code = pc.country_alpha2_to_continent_code(cn_code)\n",
    "        return conti_code\n",
    "    except:\n",
    "        None\n",
    "  "
   ]
  },
  {
   "cell_type": "code",
   "execution_count": 71,
   "metadata": {},
   "outputs": [
    {
     "data": {
      "text/html": [
       "<div>\n",
       "<style scoped>\n",
       "    .dataframe tbody tr th:only-of-type {\n",
       "        vertical-align: middle;\n",
       "    }\n",
       "\n",
       "    .dataframe tbody tr th {\n",
       "        vertical-align: top;\n",
       "    }\n",
       "\n",
       "    .dataframe thead th {\n",
       "        text-align: right;\n",
       "    }\n",
       "</style>\n",
       "<table border=\"1\" class=\"dataframe\">\n",
       "  <thead>\n",
       "    <tr style=\"text-align: right;\">\n",
       "      <th></th>\n",
       "      <th>Year</th>\n",
       "      <th>Country</th>\n",
       "      <th>Production_t</th>\n",
       "      <th>Area_ha</th>\n",
       "      <th>Continent</th>\n",
       "    </tr>\n",
       "  </thead>\n",
       "  <tbody>\n",
       "    <tr>\n",
       "      <th>1373</th>\n",
       "      <td>2005</td>\n",
       "      <td>United Kingdom of Great Britain and Northern I...</td>\n",
       "      <td>85180049</td>\n",
       "      <td>9716948</td>\n",
       "      <td>EU</td>\n",
       "    </tr>\n",
       "    <tr>\n",
       "      <th>1678</th>\n",
       "      <td>2013</td>\n",
       "      <td>Netherlands</td>\n",
       "      <td>39316313</td>\n",
       "      <td>1112937</td>\n",
       "      <td>EU</td>\n",
       "    </tr>\n",
       "    <tr>\n",
       "      <th>824</th>\n",
       "      <td>1991</td>\n",
       "      <td>Italy</td>\n",
       "      <td>150596687</td>\n",
       "      <td>20351088</td>\n",
       "      <td>EU</td>\n",
       "    </tr>\n",
       "  </tbody>\n",
       "</table>\n",
       "</div>"
      ],
      "text/plain": [
       "      Year                                            Country  Production_t  \\\n",
       "1373  2005  United Kingdom of Great Britain and Northern I...      85180049   \n",
       "1678  2013                                        Netherlands      39316313   \n",
       "824   1991                                              Italy     150596687   \n",
       "\n",
       "       Area_ha Continent  \n",
       "1373   9716948        EU  \n",
       "1678   1112937        EU  \n",
       "824   20351088        EU  "
      ]
     },
     "execution_count": 71,
     "metadata": {},
     "output_type": "execute_result"
    }
   ],
   "source": [
    "# Creating nem column 'Continent'\n",
    "\n",
    "df_map['Continent'] = df_map.apply(convert, axis = 1)\n",
    "df_map.sample(3)"
   ]
  },
  {
   "cell_type": "code",
   "execution_count": 72,
   "metadata": {},
   "outputs": [],
   "source": [
    "df_none = df_map[df_map['Continent'].isnull()] ## checking None values"
   ]
  },
  {
   "cell_type": "code",
   "execution_count": 73,
   "metadata": {},
   "outputs": [
    {
     "data": {
      "text/plain": [
       "array(['Belgium-Luxembourg', 'Czechoslovakia', 'USSR', 'Yugoslav SFR',\n",
       "       'Serbia and Montenegro'], dtype=object)"
      ]
     },
     "execution_count": 73,
     "metadata": {},
     "output_type": "execute_result"
    }
   ],
   "source": [
    "df_none['Country'].unique() "
   ]
  },
  {
   "cell_type": "code",
   "execution_count": 74,
   "metadata": {},
   "outputs": [],
   "source": [
    "#There are five countries that have changed their names and external borders. It is reasonable to drop them.\n",
    "\n",
    "val = ['Belgium-Luxembourg', 'Czechoslovakia', 'USSR', 'Yugoslav SFR', 'Serbia and Montenegro']"
   ]
  },
  {
   "cell_type": "code",
   "execution_count": 75,
   "metadata": {},
   "outputs": [],
   "source": [
    "df_map = df_map[df_map.Country.isin(val) == False] #Dropping unexisting countries"
   ]
  },
  {
   "cell_type": "code",
   "execution_count": 76,
   "metadata": {},
   "outputs": [
    {
     "data": {
      "text/plain": [
       "(1787, 5)"
      ]
     },
     "execution_count": 76,
     "metadata": {},
     "output_type": "execute_result"
    }
   ],
   "source": [
    "df_map.shape    # 147 rows are dropped"
   ]
  },
  {
   "cell_type": "code",
   "execution_count": 77,
   "metadata": {},
   "outputs": [],
   "source": [
    "df_melted = df_melted[df_melted.Country.isin(val) == False] #Dropping unexisting countries in main table as well"
   ]
  },
  {
   "cell_type": "code",
   "execution_count": 78,
   "metadata": {},
   "outputs": [],
   "source": [
    "# Converting country name into short name\n",
    "\n",
    "def country(row):\n",
    "    try:\n",
    "        countr_code =  pc.country_name_to_country_alpha2(row.Country, cn_name_format='default')\n",
    "        return countr_code\n",
    "    except:\n",
    "        return None"
   ]
  },
  {
   "cell_type": "code",
   "execution_count": 79,
   "metadata": {},
   "outputs": [
    {
     "data": {
      "text/html": [
       "<div>\n",
       "<style scoped>\n",
       "    .dataframe tbody tr th:only-of-type {\n",
       "        vertical-align: middle;\n",
       "    }\n",
       "\n",
       "    .dataframe tbody tr th {\n",
       "        vertical-align: top;\n",
       "    }\n",
       "\n",
       "    .dataframe thead th {\n",
       "        text-align: right;\n",
       "    }\n",
       "</style>\n",
       "<table border=\"1\" class=\"dataframe\">\n",
       "  <thead>\n",
       "    <tr style=\"text-align: right;\">\n",
       "      <th></th>\n",
       "      <th>Year</th>\n",
       "      <th>Country</th>\n",
       "      <th>Production_t</th>\n",
       "      <th>Area_ha</th>\n",
       "      <th>Continent</th>\n",
       "      <th>Country_Abrr</th>\n",
       "    </tr>\n",
       "  </thead>\n",
       "  <tbody>\n",
       "    <tr>\n",
       "      <th>61</th>\n",
       "      <td>1963</td>\n",
       "      <td>Finland</td>\n",
       "      <td>7456306</td>\n",
       "      <td>2337782</td>\n",
       "      <td>EU</td>\n",
       "      <td>FI</td>\n",
       "    </tr>\n",
       "    <tr>\n",
       "      <th>657</th>\n",
       "      <td>1985</td>\n",
       "      <td>Germany</td>\n",
       "      <td>194351913</td>\n",
       "      <td>20579184</td>\n",
       "      <td>EU</td>\n",
       "      <td>DE</td>\n",
       "    </tr>\n",
       "    <tr>\n",
       "      <th>1442</th>\n",
       "      <td>2007</td>\n",
       "      <td>Portugal</td>\n",
       "      <td>13315547</td>\n",
       "      <td>2720118</td>\n",
       "      <td>EU</td>\n",
       "      <td>PT</td>\n",
       "    </tr>\n",
       "  </tbody>\n",
       "</table>\n",
       "</div>"
      ],
      "text/plain": [
       "      Year   Country  Production_t   Area_ha Continent Country_Abrr\n",
       "61    1963   Finland       7456306   2337782        EU           FI\n",
       "657   1985   Germany     194351913  20579184        EU           DE\n",
       "1442  2007  Portugal      13315547   2720118        EU           PT"
      ]
     },
     "execution_count": 79,
     "metadata": {},
     "output_type": "execute_result"
    }
   ],
   "source": [
    "#Creating new column with countries' abrreviation\n",
    "\n",
    "df_map['Country_Abrr'] = df_map.apply(country, axis = 1)\n",
    "df_map.sample(3)"
   ]
  },
  {
   "cell_type": "code",
   "execution_count": 80,
   "metadata": {},
   "outputs": [],
   "source": [
    "#Creating latitude and longitude values\n",
    "\n",
    "geolocator = Nominatim(user_agent='berzina_e@yahoo.com')\n",
    "def geolocate(country):\n",
    "    try:\n",
    "        # Geolocate the center of the country\n",
    "        loc = geolocator.geocode(country.Country)\n",
    "        # And return latitude and longitude\n",
    "        return loc.latitude, loc.longitude\n",
    "    except:\n",
    "        # Return missing value \n",
    "        return None"
   ]
  },
  {
   "cell_type": "code",
   "execution_count": 81,
   "metadata": {},
   "outputs": [],
   "source": [
    "#Creating new column Geolocatin with latitude and longitude values\n",
    "\n",
    "df_map['GeoLocation'] = df_map.apply(geolocate, axis = 1)"
   ]
  },
  {
   "cell_type": "code",
   "execution_count": 82,
   "metadata": {},
   "outputs": [
    {
     "data": {
      "text/html": [
       "<div>\n",
       "<style scoped>\n",
       "    .dataframe tbody tr th:only-of-type {\n",
       "        vertical-align: middle;\n",
       "    }\n",
       "\n",
       "    .dataframe tbody tr th {\n",
       "        vertical-align: top;\n",
       "    }\n",
       "\n",
       "    .dataframe thead th {\n",
       "        text-align: right;\n",
       "    }\n",
       "</style>\n",
       "<table border=\"1\" class=\"dataframe\">\n",
       "  <thead>\n",
       "    <tr style=\"text-align: right;\">\n",
       "      <th></th>\n",
       "      <th>Year</th>\n",
       "      <th>Country</th>\n",
       "      <th>Production_t</th>\n",
       "      <th>Area_ha</th>\n",
       "      <th>Continent</th>\n",
       "      <th>Country_Abrr</th>\n",
       "      <th>GeoLocation</th>\n",
       "    </tr>\n",
       "  </thead>\n",
       "  <tbody>\n",
       "    <tr>\n",
       "      <th>678</th>\n",
       "      <td>1986</td>\n",
       "      <td>Bulgaria</td>\n",
       "      <td>29435819</td>\n",
       "      <td>6765303</td>\n",
       "      <td>EU</td>\n",
       "      <td>BG</td>\n",
       "      <td>None</td>\n",
       "    </tr>\n",
       "    <tr>\n",
       "      <th>680</th>\n",
       "      <td>1986</td>\n",
       "      <td>Denmark</td>\n",
       "      <td>28342925</td>\n",
       "      <td>4604352</td>\n",
       "      <td>EU</td>\n",
       "      <td>DK</td>\n",
       "      <td>None</td>\n",
       "    </tr>\n",
       "    <tr>\n",
       "      <th>741</th>\n",
       "      <td>1988</td>\n",
       "      <td>Iceland</td>\n",
       "      <td>23928</td>\n",
       "      <td>2084</td>\n",
       "      <td>EU</td>\n",
       "      <td>IS</td>\n",
       "      <td>None</td>\n",
       "    </tr>\n",
       "  </tbody>\n",
       "</table>\n",
       "</div>"
      ],
      "text/plain": [
       "     Year   Country  Production_t  Area_ha Continent Country_Abrr GeoLocation\n",
       "678  1986  Bulgaria      29435819  6765303        EU           BG        None\n",
       "680  1986   Denmark      28342925  4604352        EU           DK        None\n",
       "741  1988   Iceland         23928     2084        EU           IS        None"
      ]
     },
     "execution_count": 82,
     "metadata": {},
     "output_type": "execute_result"
    }
   ],
   "source": [
    "df_map[df_map['GeoLocation'].isnull()]"
   ]
  },
  {
   "cell_type": "code",
   "execution_count": 83,
   "metadata": {},
   "outputs": [],
   "source": [
    "#df_map.loc[df_map.Country == 'North Macedonia', ['GeoLocation', 'Latitude', 'Longitude']] = '(41.6137,  21.7433)', 41.6137,  21.7433 "
   ]
  },
  {
   "cell_type": "code",
   "execution_count": 84,
   "metadata": {},
   "outputs": [],
   "source": [
    "#Creating two new columns\n",
    "\n",
    "df_map[['Latitude', 'Longitude']] = df_map['GeoLocation'].astype(str)\\\n",
    "                .str.strip('()')\\\n",
    "                .str.split(', ', expand=True)\\\n",
    "                .rename(columns={0:'Latitude', 1:'Longitude'}) "
   ]
  },
  {
   "cell_type": "code",
   "execution_count": 85,
   "metadata": {},
   "outputs": [
    {
     "data": {
      "text/html": [
       "<div>\n",
       "<style scoped>\n",
       "    .dataframe tbody tr th:only-of-type {\n",
       "        vertical-align: middle;\n",
       "    }\n",
       "\n",
       "    .dataframe tbody tr th {\n",
       "        vertical-align: top;\n",
       "    }\n",
       "\n",
       "    .dataframe thead th {\n",
       "        text-align: right;\n",
       "    }\n",
       "</style>\n",
       "<table border=\"1\" class=\"dataframe\">\n",
       "  <thead>\n",
       "    <tr style=\"text-align: right;\">\n",
       "      <th></th>\n",
       "      <th>Year</th>\n",
       "      <th>Country</th>\n",
       "      <th>Production_t</th>\n",
       "      <th>Area_ha</th>\n",
       "      <th>Continent</th>\n",
       "      <th>Country_Abrr</th>\n",
       "      <th>GeoLocation</th>\n",
       "      <th>Latitude</th>\n",
       "      <th>Longitude</th>\n",
       "    </tr>\n",
       "  </thead>\n",
       "  <tbody>\n",
       "    <tr>\n",
       "      <th>804</th>\n",
       "      <td>1990</td>\n",
       "      <td>Spain</td>\n",
       "      <td>133600254</td>\n",
       "      <td>34872700</td>\n",
       "      <td>EU</td>\n",
       "      <td>ES</td>\n",
       "      <td>(39.3260685, -4.8379791)</td>\n",
       "      <td>39.3260685</td>\n",
       "      <td>-4.8379791</td>\n",
       "    </tr>\n",
       "    <tr>\n",
       "      <th>1549</th>\n",
       "      <td>2010</td>\n",
       "      <td>Hungary</td>\n",
       "      <td>36286739</td>\n",
       "      <td>9091095</td>\n",
       "      <td>EU</td>\n",
       "      <td>HU</td>\n",
       "      <td>(47.1817585, 19.5060937)</td>\n",
       "      <td>47.1817585</td>\n",
       "      <td>19.5060937</td>\n",
       "    </tr>\n",
       "    <tr>\n",
       "      <th>1580</th>\n",
       "      <td>2011</td>\n",
       "      <td>Croatia</td>\n",
       "      <td>12411706</td>\n",
       "      <td>1881242</td>\n",
       "      <td>EU</td>\n",
       "      <td>HR</td>\n",
       "      <td>(45.5643442, 17.0118954)</td>\n",
       "      <td>45.5643442</td>\n",
       "      <td>17.0118954</td>\n",
       "    </tr>\n",
       "  </tbody>\n",
       "</table>\n",
       "</div>"
      ],
      "text/plain": [
       "      Year  Country  Production_t   Area_ha Continent Country_Abrr  \\\n",
       "804   1990    Spain     133600254  34872700        EU           ES   \n",
       "1549  2010  Hungary      36286739   9091095        EU           HU   \n",
       "1580  2011  Croatia      12411706   1881242        EU           HR   \n",
       "\n",
       "                   GeoLocation    Latitude   Longitude  \n",
       "804   (39.3260685, -4.8379791)  39.3260685  -4.8379791  \n",
       "1549  (47.1817585, 19.5060937)  47.1817585  19.5060937  \n",
       "1580  (45.5643442, 17.0118954)  45.5643442  17.0118954  "
      ]
     },
     "execution_count": 85,
     "metadata": {},
     "output_type": "execute_result"
    }
   ],
   "source": [
    "df_map.sample(3)"
   ]
  },
  {
   "cell_type": "code",
   "execution_count": 86,
   "metadata": {},
   "outputs": [
    {
     "ename": "ValueError",
     "evalue": "Location should consist of two numerical values, but 'None' of type <class 'str'> is not convertible to float.",
     "output_type": "error",
     "traceback": [
      "\u001b[1;31m---------------------------------------------------------------------------\u001b[0m",
      "\u001b[1;31mValueError\u001b[0m                                Traceback (most recent call last)",
      "File \u001b[1;32mc:\\Users\\grazk\\Documents\\Git_project\\Final-project\\myenv\\lib\\site-packages\\folium\\utilities.py:60\u001b[0m, in \u001b[0;36mvalidate_location\u001b[1;34m(location)\u001b[0m\n\u001b[0;32m     59\u001b[0m \u001b[39mtry\u001b[39;00m:\n\u001b[1;32m---> 60\u001b[0m     \u001b[39mfloat\u001b[39;49m(coord)\n\u001b[0;32m     61\u001b[0m \u001b[39mexcept\u001b[39;00m (\u001b[39mTypeError\u001b[39;00m, \u001b[39mValueError\u001b[39;00m):\n",
      "\u001b[1;31mValueError\u001b[0m: could not convert string to float: 'None'",
      "\nDuring handling of the above exception, another exception occurred:\n",
      "\u001b[1;31mValueError\u001b[0m                                Traceback (most recent call last)",
      "Cell \u001b[1;32mIn [86], line 7\u001b[0m\n\u001b[0;32m      1\u001b[0m my_map \u001b[39m=\u001b[39m folium\u001b[39m.\u001b[39mMap(\n\u001b[0;32m      2\u001b[0m     location\u001b[39m=\u001b[39m[\u001b[39m42.9868853\u001b[39m, \u001b[39m19.5180992\u001b[39m],\n\u001b[0;32m      3\u001b[0m     zoom_start\u001b[39m=\u001b[39m\u001b[39m4\u001b[39m\n\u001b[0;32m      4\u001b[0m     )\n\u001b[0;32m      6\u001b[0m \u001b[39mfor\u001b[39;00m _, country \u001b[39min\u001b[39;00m df_map\u001b[39m.\u001b[39miterrows():\n\u001b[1;32m----> 7\u001b[0m     folium\u001b[39m.\u001b[39;49mCircleMarker(\n\u001b[0;32m      8\u001b[0m         location\u001b[39m=\u001b[39;49m[country[\u001b[39m'\u001b[39;49m\u001b[39mLatitude\u001b[39;49m\u001b[39m'\u001b[39;49m], country[\u001b[39m'\u001b[39;49m\u001b[39mLongitude\u001b[39;49m\u001b[39m'\u001b[39;49m]],\n\u001b[0;32m      9\u001b[0m         radius\u001b[39m=\u001b[39;49m\u001b[39m5\u001b[39;49m,\n\u001b[0;32m     10\u001b[0m         fill_color\u001b[39m=\u001b[39;49m\u001b[39m'\u001b[39;49m\u001b[39mred\u001b[39;49m\u001b[39m'\u001b[39;49m\n\u001b[0;32m     11\u001b[0m     )\u001b[39m.\u001b[39madd_to(my_map)\n\u001b[0;32m     13\u001b[0m my_map\n",
      "File \u001b[1;32mc:\\Users\\grazk\\Documents\\Git_project\\Final-project\\myenv\\lib\\site-packages\\folium\\vector_layers.py:302\u001b[0m, in \u001b[0;36mCircleMarker.__init__\u001b[1;34m(self, location, radius, popup, tooltip, **kwargs)\u001b[0m\n\u001b[0;32m    301\u001b[0m \u001b[39mdef\u001b[39;00m \u001b[39m__init__\u001b[39m(\u001b[39mself\u001b[39m, location\u001b[39m=\u001b[39m\u001b[39mNone\u001b[39;00m, radius\u001b[39m=\u001b[39m\u001b[39m10\u001b[39m, popup\u001b[39m=\u001b[39m\u001b[39mNone\u001b[39;00m, tooltip\u001b[39m=\u001b[39m\u001b[39mNone\u001b[39;00m, \u001b[39m*\u001b[39m\u001b[39m*\u001b[39mkwargs):\n\u001b[1;32m--> 302\u001b[0m     \u001b[39msuper\u001b[39;49m(CircleMarker, \u001b[39mself\u001b[39;49m)\u001b[39m.\u001b[39;49m\u001b[39m__init__\u001b[39;49m(location, popup\u001b[39m=\u001b[39;49mpopup,\n\u001b[0;32m    303\u001b[0m                                        tooltip\u001b[39m=\u001b[39;49mtooltip)\n\u001b[0;32m    304\u001b[0m     \u001b[39mself\u001b[39m\u001b[39m.\u001b[39m_name \u001b[39m=\u001b[39m \u001b[39m'\u001b[39m\u001b[39mCircleMarker\u001b[39m\u001b[39m'\u001b[39m\n\u001b[0;32m    305\u001b[0m     \u001b[39mself\u001b[39m\u001b[39m.\u001b[39moptions \u001b[39m=\u001b[39m path_options(line\u001b[39m=\u001b[39m\u001b[39mFalse\u001b[39;00m, radius\u001b[39m=\u001b[39mradius, \u001b[39m*\u001b[39m\u001b[39m*\u001b[39mkwargs)\n",
      "File \u001b[1;32mc:\\Users\\grazk\\Documents\\Git_project\\Final-project\\myenv\\lib\\site-packages\\folium\\map.py:280\u001b[0m, in \u001b[0;36mMarker.__init__\u001b[1;34m(self, location, popup, tooltip, icon, draggable, **kwargs)\u001b[0m\n\u001b[0;32m    278\u001b[0m \u001b[39msuper\u001b[39m(Marker, \u001b[39mself\u001b[39m)\u001b[39m.\u001b[39m\u001b[39m__init__\u001b[39m()\n\u001b[0;32m    279\u001b[0m \u001b[39mself\u001b[39m\u001b[39m.\u001b[39m_name \u001b[39m=\u001b[39m \u001b[39m'\u001b[39m\u001b[39mMarker\u001b[39m\u001b[39m'\u001b[39m\n\u001b[1;32m--> 280\u001b[0m \u001b[39mself\u001b[39m\u001b[39m.\u001b[39mlocation \u001b[39m=\u001b[39m validate_location(location) \u001b[39mif\u001b[39;00m location \u001b[39melse\u001b[39;00m \u001b[39mNone\u001b[39;00m\n\u001b[0;32m    281\u001b[0m \u001b[39mself\u001b[39m\u001b[39m.\u001b[39moptions \u001b[39m=\u001b[39m parse_options(\n\u001b[0;32m    282\u001b[0m     draggable\u001b[39m=\u001b[39mdraggable \u001b[39mor\u001b[39;00m \u001b[39mNone\u001b[39;00m,\n\u001b[0;32m    283\u001b[0m     autoPan\u001b[39m=\u001b[39mdraggable \u001b[39mor\u001b[39;00m \u001b[39mNone\u001b[39;00m,\n\u001b[0;32m    284\u001b[0m     \u001b[39m*\u001b[39m\u001b[39m*\u001b[39mkwargs\n\u001b[0;32m    285\u001b[0m )\n\u001b[0;32m    286\u001b[0m \u001b[39mif\u001b[39;00m icon \u001b[39mis\u001b[39;00m \u001b[39mnot\u001b[39;00m \u001b[39mNone\u001b[39;00m:\n",
      "File \u001b[1;32mc:\\Users\\grazk\\Documents\\Git_project\\Final-project\\myenv\\lib\\site-packages\\folium\\utilities.py:62\u001b[0m, in \u001b[0;36mvalidate_location\u001b[1;34m(location)\u001b[0m\n\u001b[0;32m     60\u001b[0m     \u001b[39mfloat\u001b[39m(coord)\n\u001b[0;32m     61\u001b[0m \u001b[39mexcept\u001b[39;00m (\u001b[39mTypeError\u001b[39;00m, \u001b[39mValueError\u001b[39;00m):\n\u001b[1;32m---> 62\u001b[0m     \u001b[39mraise\u001b[39;00m \u001b[39mValueError\u001b[39;00m(\u001b[39m'\u001b[39m\u001b[39mLocation should consist of two numerical values, \u001b[39m\u001b[39m'\u001b[39m\n\u001b[0;32m     63\u001b[0m                      \u001b[39m'\u001b[39m\u001b[39mbut \u001b[39m\u001b[39m{!r}\u001b[39;00m\u001b[39m of type \u001b[39m\u001b[39m{}\u001b[39;00m\u001b[39m is not convertible to float.\u001b[39m\u001b[39m'\u001b[39m\n\u001b[0;32m     64\u001b[0m                      \u001b[39m.\u001b[39mformat(coord, \u001b[39mtype\u001b[39m(coord)))\n\u001b[0;32m     65\u001b[0m \u001b[39mif\u001b[39;00m math\u001b[39m.\u001b[39misnan(\u001b[39mfloat\u001b[39m(coord)):\n\u001b[0;32m     66\u001b[0m     \u001b[39mraise\u001b[39;00m \u001b[39mValueError\u001b[39;00m(\u001b[39m'\u001b[39m\u001b[39mLocation values cannot contain NaNs.\u001b[39m\u001b[39m'\u001b[39m)\n",
      "\u001b[1;31mValueError\u001b[0m: Location should consist of two numerical values, but 'None' of type <class 'str'> is not convertible to float."
     ]
    }
   ],
   "source": [
    "my_map = folium.Map(\n",
    "    location=[42.9868853, 19.5180992],\n",
    "    zoom_start=4\n",
    "    )\n",
    "\n",
    "for _, country in df_map.iterrows():\n",
    "    folium.CircleMarker(\n",
    "        location=[country['Latitude'], country['Longitude']],\n",
    "        radius=5,\n",
    "        fill_color='red'\n",
    "    ).add_to(my_map)\n",
    "\n",
    "my_map"
   ]
  },
  {
   "cell_type": "markdown",
   "metadata": {},
   "source": [
    "**Comparing cultivated area in European countries**"
   ]
  },
  {
   "cell_type": "code",
   "execution_count": 87,
   "metadata": {},
   "outputs": [
    {
     "ename": "ValueError",
     "evalue": "could not convert string to float: 'None'",
     "output_type": "error",
     "traceback": [
      "\u001b[1;31m---------------------------------------------------------------------------\u001b[0m",
      "\u001b[1;31mValueError\u001b[0m                                Traceback (most recent call last)",
      "Cell \u001b[1;32mIn [87], line 6\u001b[0m\n\u001b[0;32m      1\u001b[0m conv_dict \u001b[39m=\u001b[39m {\n\u001b[0;32m      2\u001b[0m                 \u001b[39m'\u001b[39m\u001b[39mLatitude\u001b[39m\u001b[39m'\u001b[39m: \u001b[39mfloat\u001b[39m,\n\u001b[0;32m      3\u001b[0m                 \u001b[39m'\u001b[39m\u001b[39mLongitude\u001b[39m\u001b[39m'\u001b[39m: \u001b[39mfloat\u001b[39m\n\u001b[0;32m      4\u001b[0m                 }\n\u001b[1;32m----> 6\u001b[0m df_map \u001b[39m=\u001b[39m df_map\u001b[39m.\u001b[39;49mastype(conv_dict)\n",
      "File \u001b[1;32mc:\\Users\\grazk\\Documents\\Git_project\\Final-project\\myenv\\lib\\site-packages\\pandas\\core\\generic.py:6226\u001b[0m, in \u001b[0;36mNDFrame.astype\u001b[1;34m(self, dtype, copy, errors)\u001b[0m\n\u001b[0;32m   6224\u001b[0m             res_col \u001b[39m=\u001b[39m col\u001b[39m.\u001b[39mcopy() \u001b[39mif\u001b[39;00m copy \u001b[39melse\u001b[39;00m col\n\u001b[0;32m   6225\u001b[0m         \u001b[39melse\u001b[39;00m:\n\u001b[1;32m-> 6226\u001b[0m             res_col \u001b[39m=\u001b[39m col\u001b[39m.\u001b[39;49mastype(dtype\u001b[39m=\u001b[39;49mcdt, copy\u001b[39m=\u001b[39;49mcopy, errors\u001b[39m=\u001b[39;49merrors)\n\u001b[0;32m   6227\u001b[0m         results\u001b[39m.\u001b[39mappend(res_col)\n\u001b[0;32m   6229\u001b[0m \u001b[39melif\u001b[39;00m is_extension_array_dtype(dtype) \u001b[39mand\u001b[39;00m \u001b[39mself\u001b[39m\u001b[39m.\u001b[39mndim \u001b[39m>\u001b[39m \u001b[39m1\u001b[39m:\n\u001b[0;32m   6230\u001b[0m     \u001b[39m# GH 18099/22869: columnwise conversion to extension dtype\u001b[39;00m\n\u001b[0;32m   6231\u001b[0m     \u001b[39m# GH 24704: use iloc to handle duplicate column names\u001b[39;00m\n\u001b[0;32m   6232\u001b[0m     \u001b[39m# TODO(EA2D): special case not needed with 2D EAs\u001b[39;00m\n",
      "File \u001b[1;32mc:\\Users\\grazk\\Documents\\Git_project\\Final-project\\myenv\\lib\\site-packages\\pandas\\core\\generic.py:6240\u001b[0m, in \u001b[0;36mNDFrame.astype\u001b[1;34m(self, dtype, copy, errors)\u001b[0m\n\u001b[0;32m   6233\u001b[0m     results \u001b[39m=\u001b[39m [\n\u001b[0;32m   6234\u001b[0m         \u001b[39mself\u001b[39m\u001b[39m.\u001b[39miloc[:, i]\u001b[39m.\u001b[39mastype(dtype, copy\u001b[39m=\u001b[39mcopy)\n\u001b[0;32m   6235\u001b[0m         \u001b[39mfor\u001b[39;00m i \u001b[39min\u001b[39;00m \u001b[39mrange\u001b[39m(\u001b[39mlen\u001b[39m(\u001b[39mself\u001b[39m\u001b[39m.\u001b[39mcolumns))\n\u001b[0;32m   6236\u001b[0m     ]\n\u001b[0;32m   6238\u001b[0m \u001b[39melse\u001b[39;00m:\n\u001b[0;32m   6239\u001b[0m     \u001b[39m# else, only a single dtype is given\u001b[39;00m\n\u001b[1;32m-> 6240\u001b[0m     new_data \u001b[39m=\u001b[39m \u001b[39mself\u001b[39;49m\u001b[39m.\u001b[39;49m_mgr\u001b[39m.\u001b[39;49mastype(dtype\u001b[39m=\u001b[39;49mdtype, copy\u001b[39m=\u001b[39;49mcopy, errors\u001b[39m=\u001b[39;49merrors)\n\u001b[0;32m   6241\u001b[0m     \u001b[39mreturn\u001b[39;00m \u001b[39mself\u001b[39m\u001b[39m.\u001b[39m_constructor(new_data)\u001b[39m.\u001b[39m__finalize__(\u001b[39mself\u001b[39m, method\u001b[39m=\u001b[39m\u001b[39m\"\u001b[39m\u001b[39mastype\u001b[39m\u001b[39m\"\u001b[39m)\n\u001b[0;32m   6243\u001b[0m \u001b[39m# GH 33113: handle empty frame or series\u001b[39;00m\n",
      "File \u001b[1;32mc:\\Users\\grazk\\Documents\\Git_project\\Final-project\\myenv\\lib\\site-packages\\pandas\\core\\internals\\managers.py:445\u001b[0m, in \u001b[0;36mBaseBlockManager.astype\u001b[1;34m(self, dtype, copy, errors)\u001b[0m\n\u001b[0;32m    444\u001b[0m \u001b[39mdef\u001b[39;00m \u001b[39mastype\u001b[39m(\u001b[39mself\u001b[39m: T, dtype, copy: \u001b[39mbool\u001b[39m \u001b[39m=\u001b[39m \u001b[39mFalse\u001b[39;00m, errors: \u001b[39mstr\u001b[39m \u001b[39m=\u001b[39m \u001b[39m\"\u001b[39m\u001b[39mraise\u001b[39m\u001b[39m\"\u001b[39m) \u001b[39m-\u001b[39m\u001b[39m>\u001b[39m T:\n\u001b[1;32m--> 445\u001b[0m     \u001b[39mreturn\u001b[39;00m \u001b[39mself\u001b[39;49m\u001b[39m.\u001b[39;49mapply(\u001b[39m\"\u001b[39;49m\u001b[39mastype\u001b[39;49m\u001b[39m\"\u001b[39;49m, dtype\u001b[39m=\u001b[39;49mdtype, copy\u001b[39m=\u001b[39;49mcopy, errors\u001b[39m=\u001b[39;49merrors)\n",
      "File \u001b[1;32mc:\\Users\\grazk\\Documents\\Git_project\\Final-project\\myenv\\lib\\site-packages\\pandas\\core\\internals\\managers.py:347\u001b[0m, in \u001b[0;36mBaseBlockManager.apply\u001b[1;34m(self, f, align_keys, ignore_failures, **kwargs)\u001b[0m\n\u001b[0;32m    345\u001b[0m         applied \u001b[39m=\u001b[39m b\u001b[39m.\u001b[39mapply(f, \u001b[39m*\u001b[39m\u001b[39m*\u001b[39mkwargs)\n\u001b[0;32m    346\u001b[0m     \u001b[39melse\u001b[39;00m:\n\u001b[1;32m--> 347\u001b[0m         applied \u001b[39m=\u001b[39m \u001b[39mgetattr\u001b[39m(b, f)(\u001b[39m*\u001b[39m\u001b[39m*\u001b[39mkwargs)\n\u001b[0;32m    348\u001b[0m \u001b[39mexcept\u001b[39;00m (\u001b[39mTypeError\u001b[39;00m, \u001b[39mNotImplementedError\u001b[39;00m):\n\u001b[0;32m    349\u001b[0m     \u001b[39mif\u001b[39;00m \u001b[39mnot\u001b[39;00m ignore_failures:\n",
      "File \u001b[1;32mc:\\Users\\grazk\\Documents\\Git_project\\Final-project\\myenv\\lib\\site-packages\\pandas\\core\\internals\\blocks.py:526\u001b[0m, in \u001b[0;36mBlock.astype\u001b[1;34m(self, dtype, copy, errors)\u001b[0m\n\u001b[0;32m    508\u001b[0m \u001b[39m\"\"\"\u001b[39;00m\n\u001b[0;32m    509\u001b[0m \u001b[39mCoerce to the new dtype.\u001b[39;00m\n\u001b[0;32m    510\u001b[0m \n\u001b[1;32m   (...)\u001b[0m\n\u001b[0;32m    522\u001b[0m \u001b[39mBlock\u001b[39;00m\n\u001b[0;32m    523\u001b[0m \u001b[39m\"\"\"\u001b[39;00m\n\u001b[0;32m    524\u001b[0m values \u001b[39m=\u001b[39m \u001b[39mself\u001b[39m\u001b[39m.\u001b[39mvalues\n\u001b[1;32m--> 526\u001b[0m new_values \u001b[39m=\u001b[39m astype_array_safe(values, dtype, copy\u001b[39m=\u001b[39;49mcopy, errors\u001b[39m=\u001b[39;49merrors)\n\u001b[0;32m    528\u001b[0m new_values \u001b[39m=\u001b[39m maybe_coerce_values(new_values)\n\u001b[0;32m    529\u001b[0m newb \u001b[39m=\u001b[39m \u001b[39mself\u001b[39m\u001b[39m.\u001b[39mmake_block(new_values)\n",
      "File \u001b[1;32mc:\\Users\\grazk\\Documents\\Git_project\\Final-project\\myenv\\lib\\site-packages\\pandas\\core\\dtypes\\astype.py:299\u001b[0m, in \u001b[0;36mastype_array_safe\u001b[1;34m(values, dtype, copy, errors)\u001b[0m\n\u001b[0;32m    296\u001b[0m     \u001b[39mreturn\u001b[39;00m values\u001b[39m.\u001b[39mcopy()\n\u001b[0;32m    298\u001b[0m \u001b[39mtry\u001b[39;00m:\n\u001b[1;32m--> 299\u001b[0m     new_values \u001b[39m=\u001b[39m astype_array(values, dtype, copy\u001b[39m=\u001b[39;49mcopy)\n\u001b[0;32m    300\u001b[0m \u001b[39mexcept\u001b[39;00m (\u001b[39mValueError\u001b[39;00m, \u001b[39mTypeError\u001b[39;00m):\n\u001b[0;32m    301\u001b[0m     \u001b[39m# e.g. astype_nansafe can fail on object-dtype of strings\u001b[39;00m\n\u001b[0;32m    302\u001b[0m     \u001b[39m#  trying to convert to float\u001b[39;00m\n\u001b[0;32m    303\u001b[0m     \u001b[39mif\u001b[39;00m errors \u001b[39m==\u001b[39m \u001b[39m\"\u001b[39m\u001b[39mignore\u001b[39m\u001b[39m\"\u001b[39m:\n",
      "File \u001b[1;32mc:\\Users\\grazk\\Documents\\Git_project\\Final-project\\myenv\\lib\\site-packages\\pandas\\core\\dtypes\\astype.py:230\u001b[0m, in \u001b[0;36mastype_array\u001b[1;34m(values, dtype, copy)\u001b[0m\n\u001b[0;32m    227\u001b[0m     values \u001b[39m=\u001b[39m values\u001b[39m.\u001b[39mastype(dtype, copy\u001b[39m=\u001b[39mcopy)\n\u001b[0;32m    229\u001b[0m \u001b[39melse\u001b[39;00m:\n\u001b[1;32m--> 230\u001b[0m     values \u001b[39m=\u001b[39m astype_nansafe(values, dtype, copy\u001b[39m=\u001b[39;49mcopy)\n\u001b[0;32m    232\u001b[0m \u001b[39m# in pandas we don't store numpy str dtypes, so convert to object\u001b[39;00m\n\u001b[0;32m    233\u001b[0m \u001b[39mif\u001b[39;00m \u001b[39misinstance\u001b[39m(dtype, np\u001b[39m.\u001b[39mdtype) \u001b[39mand\u001b[39;00m \u001b[39missubclass\u001b[39m(values\u001b[39m.\u001b[39mdtype\u001b[39m.\u001b[39mtype, \u001b[39mstr\u001b[39m):\n",
      "File \u001b[1;32mc:\\Users\\grazk\\Documents\\Git_project\\Final-project\\myenv\\lib\\site-packages\\pandas\\core\\dtypes\\astype.py:170\u001b[0m, in \u001b[0;36mastype_nansafe\u001b[1;34m(arr, dtype, copy, skipna)\u001b[0m\n\u001b[0;32m    166\u001b[0m     \u001b[39mraise\u001b[39;00m \u001b[39mValueError\u001b[39;00m(msg)\n\u001b[0;32m    168\u001b[0m \u001b[39mif\u001b[39;00m copy \u001b[39mor\u001b[39;00m is_object_dtype(arr\u001b[39m.\u001b[39mdtype) \u001b[39mor\u001b[39;00m is_object_dtype(dtype):\n\u001b[0;32m    169\u001b[0m     \u001b[39m# Explicit copy, or required since NumPy can't view from / to object.\u001b[39;00m\n\u001b[1;32m--> 170\u001b[0m     \u001b[39mreturn\u001b[39;00m arr\u001b[39m.\u001b[39;49mastype(dtype, copy\u001b[39m=\u001b[39;49m\u001b[39mTrue\u001b[39;49;00m)\n\u001b[0;32m    172\u001b[0m \u001b[39mreturn\u001b[39;00m arr\u001b[39m.\u001b[39mastype(dtype, copy\u001b[39m=\u001b[39mcopy)\n",
      "\u001b[1;31mValueError\u001b[0m: could not convert string to float: 'None'"
     ]
    }
   ],
   "source": [
    "conv_dict = {\n",
    "                'Latitude': float,\n",
    "                'Longitude': float\n",
    "                }\n",
    " \n",
    "df_map = df_map.astype(conv_dict)"
   ]
  },
  {
   "cell_type": "code",
   "execution_count": 88,
   "metadata": {},
   "outputs": [
    {
     "ename": "AttributeError",
     "evalue": "Can only use .dt accessor with datetimelike values",
     "output_type": "error",
     "traceback": [
      "\u001b[1;31m---------------------------------------------------------------------------\u001b[0m",
      "\u001b[1;31mAttributeError\u001b[0m                            Traceback (most recent call last)",
      "Cell \u001b[1;32mIn [88], line 1\u001b[0m\n\u001b[1;32m----> 1\u001b[0m df_map[\u001b[39m'\u001b[39m\u001b[39mYear\u001b[39m\u001b[39m'\u001b[39m] \u001b[39m=\u001b[39m df_map[\u001b[39m'\u001b[39;49m\u001b[39mYear\u001b[39;49m\u001b[39m'\u001b[39;49m]\u001b[39m.\u001b[39;49mdt\u001b[39m.\u001b[39mstrftime(\u001b[39m'\u001b[39m\u001b[39m%\u001b[39m\u001b[39mY\u001b[39m\u001b[39m'\u001b[39m)\n",
      "File \u001b[1;32mc:\\Users\\grazk\\Documents\\Git_project\\Final-project\\myenv\\lib\\site-packages\\pandas\\core\\generic.py:5902\u001b[0m, in \u001b[0;36mNDFrame.__getattr__\u001b[1;34m(self, name)\u001b[0m\n\u001b[0;32m   5895\u001b[0m \u001b[39mif\u001b[39;00m (\n\u001b[0;32m   5896\u001b[0m     name \u001b[39mnot\u001b[39;00m \u001b[39min\u001b[39;00m \u001b[39mself\u001b[39m\u001b[39m.\u001b[39m_internal_names_set\n\u001b[0;32m   5897\u001b[0m     \u001b[39mand\u001b[39;00m name \u001b[39mnot\u001b[39;00m \u001b[39min\u001b[39;00m \u001b[39mself\u001b[39m\u001b[39m.\u001b[39m_metadata\n\u001b[0;32m   5898\u001b[0m     \u001b[39mand\u001b[39;00m name \u001b[39mnot\u001b[39;00m \u001b[39min\u001b[39;00m \u001b[39mself\u001b[39m\u001b[39m.\u001b[39m_accessors\n\u001b[0;32m   5899\u001b[0m     \u001b[39mand\u001b[39;00m \u001b[39mself\u001b[39m\u001b[39m.\u001b[39m_info_axis\u001b[39m.\u001b[39m_can_hold_identifiers_and_holds_name(name)\n\u001b[0;32m   5900\u001b[0m ):\n\u001b[0;32m   5901\u001b[0m     \u001b[39mreturn\u001b[39;00m \u001b[39mself\u001b[39m[name]\n\u001b[1;32m-> 5902\u001b[0m \u001b[39mreturn\u001b[39;00m \u001b[39mobject\u001b[39;49m\u001b[39m.\u001b[39;49m\u001b[39m__getattribute__\u001b[39;49m(\u001b[39mself\u001b[39;49m, name)\n",
      "File \u001b[1;32mc:\\Users\\grazk\\Documents\\Git_project\\Final-project\\myenv\\lib\\site-packages\\pandas\\core\\accessor.py:182\u001b[0m, in \u001b[0;36mCachedAccessor.__get__\u001b[1;34m(self, obj, cls)\u001b[0m\n\u001b[0;32m    179\u001b[0m \u001b[39mif\u001b[39;00m obj \u001b[39mis\u001b[39;00m \u001b[39mNone\u001b[39;00m:\n\u001b[0;32m    180\u001b[0m     \u001b[39m# we're accessing the attribute of the class, i.e., Dataset.geo\u001b[39;00m\n\u001b[0;32m    181\u001b[0m     \u001b[39mreturn\u001b[39;00m \u001b[39mself\u001b[39m\u001b[39m.\u001b[39m_accessor\n\u001b[1;32m--> 182\u001b[0m accessor_obj \u001b[39m=\u001b[39m \u001b[39mself\u001b[39;49m\u001b[39m.\u001b[39;49m_accessor(obj)\n\u001b[0;32m    183\u001b[0m \u001b[39m# Replace the property with the accessor object. Inspired by:\u001b[39;00m\n\u001b[0;32m    184\u001b[0m \u001b[39m# https://www.pydanny.com/cached-property.html\u001b[39;00m\n\u001b[0;32m    185\u001b[0m \u001b[39m# We need to use object.__setattr__ because we overwrite __setattr__ on\u001b[39;00m\n\u001b[0;32m    186\u001b[0m \u001b[39m# NDFrame\u001b[39;00m\n\u001b[0;32m    187\u001b[0m \u001b[39mobject\u001b[39m\u001b[39m.\u001b[39m\u001b[39m__setattr__\u001b[39m(obj, \u001b[39mself\u001b[39m\u001b[39m.\u001b[39m_name, accessor_obj)\n",
      "File \u001b[1;32mc:\\Users\\grazk\\Documents\\Git_project\\Final-project\\myenv\\lib\\site-packages\\pandas\\core\\indexes\\accessors.py:512\u001b[0m, in \u001b[0;36mCombinedDatetimelikeProperties.__new__\u001b[1;34m(cls, data)\u001b[0m\n\u001b[0;32m    509\u001b[0m \u001b[39melif\u001b[39;00m is_period_dtype(data\u001b[39m.\u001b[39mdtype):\n\u001b[0;32m    510\u001b[0m     \u001b[39mreturn\u001b[39;00m PeriodProperties(data, orig)\n\u001b[1;32m--> 512\u001b[0m \u001b[39mraise\u001b[39;00m \u001b[39mAttributeError\u001b[39;00m(\u001b[39m\"\u001b[39m\u001b[39mCan only use .dt accessor with datetimelike values\u001b[39m\u001b[39m\"\u001b[39m)\n",
      "\u001b[1;31mAttributeError\u001b[0m: Can only use .dt accessor with datetimelike values"
     ]
    }
   ],
   "source": [
    "df_map['Year'] = df_map['Year'].dt.strftime('%Y')"
   ]
  },
  {
   "cell_type": "code",
   "execution_count": 89,
   "metadata": {},
   "outputs": [
    {
     "ename": "ValueError",
     "evalue": "Location should consist of two numerical values, but 'None' of type <class 'str'> is not convertible to float.",
     "output_type": "error",
     "traceback": [
      "\u001b[1;31m---------------------------------------------------------------------------\u001b[0m",
      "\u001b[1;31mValueError\u001b[0m                                Traceback (most recent call last)",
      "File \u001b[1;32mc:\\Users\\grazk\\Documents\\Git_project\\Final-project\\myenv\\lib\\site-packages\\folium\\utilities.py:60\u001b[0m, in \u001b[0;36mvalidate_location\u001b[1;34m(location)\u001b[0m\n\u001b[0;32m     59\u001b[0m \u001b[39mtry\u001b[39;00m:\n\u001b[1;32m---> 60\u001b[0m     \u001b[39mfloat\u001b[39;49m(coord)\n\u001b[0;32m     61\u001b[0m \u001b[39mexcept\u001b[39;00m (\u001b[39mTypeError\u001b[39;00m, \u001b[39mValueError\u001b[39;00m):\n",
      "\u001b[1;31mValueError\u001b[0m: could not convert string to float: 'None'",
      "\nDuring handling of the above exception, another exception occurred:\n",
      "\u001b[1;31mValueError\u001b[0m                                Traceback (most recent call last)",
      "Cell \u001b[1;32mIn [89], line 9\u001b[0m\n\u001b[0;32m      3\u001b[0m marker_cluster \u001b[39m=\u001b[39m MarkerCluster(\n\u001b[0;32m      4\u001b[0m     name\u001b[39m=\u001b[39m\u001b[39m\"\u001b[39m\u001b[39mclustered name\u001b[39m\u001b[39m\"\u001b[39m,\n\u001b[0;32m      5\u001b[0m )\u001b[39m.\u001b[39madd_to(map_agr_area)\n\u001b[0;32m      7\u001b[0m \u001b[39mfor\u001b[39;00m row \u001b[39min\u001b[39;00m df_map\u001b[39m.\u001b[39mitertuples():\n\u001b[0;32m      8\u001b[0m     \u001b[39m#print(row)\u001b[39;00m\n\u001b[1;32m----> 9\u001b[0m     folium\u001b[39m.\u001b[39;49mMarker(location\u001b[39m=\u001b[39;49m[row\u001b[39m.\u001b[39;49mLatitude,row\u001b[39m.\u001b[39;49mLongitude],popup\u001b[39m=\u001b[39;49m[row\u001b[39m.\u001b[39;49mArea_ha, row\u001b[39m.\u001b[39;49mYear])\u001b[39m.\u001b[39madd_to(marker_cluster)\n\u001b[0;32m     11\u001b[0m folium\u001b[39m.\u001b[39mLayerControl()\u001b[39m.\u001b[39madd_to(map_agr_area)\n\u001b[0;32m     13\u001b[0m map_agr_area\n",
      "File \u001b[1;32mc:\\Users\\grazk\\Documents\\Git_project\\Final-project\\myenv\\lib\\site-packages\\folium\\map.py:280\u001b[0m, in \u001b[0;36mMarker.__init__\u001b[1;34m(self, location, popup, tooltip, icon, draggable, **kwargs)\u001b[0m\n\u001b[0;32m    278\u001b[0m \u001b[39msuper\u001b[39m(Marker, \u001b[39mself\u001b[39m)\u001b[39m.\u001b[39m\u001b[39m__init__\u001b[39m()\n\u001b[0;32m    279\u001b[0m \u001b[39mself\u001b[39m\u001b[39m.\u001b[39m_name \u001b[39m=\u001b[39m \u001b[39m'\u001b[39m\u001b[39mMarker\u001b[39m\u001b[39m'\u001b[39m\n\u001b[1;32m--> 280\u001b[0m \u001b[39mself\u001b[39m\u001b[39m.\u001b[39mlocation \u001b[39m=\u001b[39m validate_location(location) \u001b[39mif\u001b[39;00m location \u001b[39melse\u001b[39;00m \u001b[39mNone\u001b[39;00m\n\u001b[0;32m    281\u001b[0m \u001b[39mself\u001b[39m\u001b[39m.\u001b[39moptions \u001b[39m=\u001b[39m parse_options(\n\u001b[0;32m    282\u001b[0m     draggable\u001b[39m=\u001b[39mdraggable \u001b[39mor\u001b[39;00m \u001b[39mNone\u001b[39;00m,\n\u001b[0;32m    283\u001b[0m     autoPan\u001b[39m=\u001b[39mdraggable \u001b[39mor\u001b[39;00m \u001b[39mNone\u001b[39;00m,\n\u001b[0;32m    284\u001b[0m     \u001b[39m*\u001b[39m\u001b[39m*\u001b[39mkwargs\n\u001b[0;32m    285\u001b[0m )\n\u001b[0;32m    286\u001b[0m \u001b[39mif\u001b[39;00m icon \u001b[39mis\u001b[39;00m \u001b[39mnot\u001b[39;00m \u001b[39mNone\u001b[39;00m:\n",
      "File \u001b[1;32mc:\\Users\\grazk\\Documents\\Git_project\\Final-project\\myenv\\lib\\site-packages\\folium\\utilities.py:62\u001b[0m, in \u001b[0;36mvalidate_location\u001b[1;34m(location)\u001b[0m\n\u001b[0;32m     60\u001b[0m     \u001b[39mfloat\u001b[39m(coord)\n\u001b[0;32m     61\u001b[0m \u001b[39mexcept\u001b[39;00m (\u001b[39mTypeError\u001b[39;00m, \u001b[39mValueError\u001b[39;00m):\n\u001b[1;32m---> 62\u001b[0m     \u001b[39mraise\u001b[39;00m \u001b[39mValueError\u001b[39;00m(\u001b[39m'\u001b[39m\u001b[39mLocation should consist of two numerical values, \u001b[39m\u001b[39m'\u001b[39m\n\u001b[0;32m     63\u001b[0m                      \u001b[39m'\u001b[39m\u001b[39mbut \u001b[39m\u001b[39m{!r}\u001b[39;00m\u001b[39m of type \u001b[39m\u001b[39m{}\u001b[39;00m\u001b[39m is not convertible to float.\u001b[39m\u001b[39m'\u001b[39m\n\u001b[0;32m     64\u001b[0m                      \u001b[39m.\u001b[39mformat(coord, \u001b[39mtype\u001b[39m(coord)))\n\u001b[0;32m     65\u001b[0m \u001b[39mif\u001b[39;00m math\u001b[39m.\u001b[39misnan(\u001b[39mfloat\u001b[39m(coord)):\n\u001b[0;32m     66\u001b[0m     \u001b[39mraise\u001b[39;00m \u001b[39mValueError\u001b[39;00m(\u001b[39m'\u001b[39m\u001b[39mLocation values cannot contain NaNs.\u001b[39m\u001b[39m'\u001b[39m)\n",
      "\u001b[1;31mValueError\u001b[0m: Location should consist of two numerical values, but 'None' of type <class 'str'> is not convertible to float."
     ]
    }
   ],
   "source": [
    "map_agr_area = folium.Map([42 ,29], zoom_start=5)\n",
    "\n",
    "marker_cluster = MarkerCluster(\n",
    "    name=\"clustered name\",\n",
    ").add_to(map_agr_area)\n",
    "\n",
    "for row in df_map.itertuples():\n",
    "    #print(row)\n",
    "    folium.Marker(location=[row.Latitude,row.Longitude],popup=[row.Area_ha, row.Year]).add_to(marker_cluster)\n",
    "\n",
    "folium.LayerControl().add_to(map_agr_area)\n",
    "\n",
    "map_agr_area"
   ]
  },
  {
   "cell_type": "code",
   "execution_count": 90,
   "metadata": {},
   "outputs": [],
   "source": [
    "# Renaming some countries \n",
    "df_melted.replace({'Country': {'United Kingdom of Great Britain and Northern Ireland': 'United Kingdom', \n",
    "                            'Russian Federation': 'Russia', \n",
    "                            'Republic of Moldova': 'Moldova'\n",
    "                            }\n",
    "                            }, inplace= True)"
   ]
  },
  {
   "cell_type": "code",
   "execution_count": 91,
   "metadata": {},
   "outputs": [
    {
     "name": "stdout",
     "output_type": "stream",
     "text": [
      "['Albania', 'Austria', 'Belarus', 'Belgium', 'Bosnia and Herzegovina', 'Bulgaria', 'Croatia', 'Czechia', 'Denmark', 'Estonia', 'Faroe Islands', 'Finland', 'France', 'Germany', 'Greece', 'Hungary', 'Iceland', 'Ireland', 'Italy', 'Latvia', 'Lithuania', 'Luxembourg', 'Malta', 'Montenegro', 'Netherlands', 'North Macedonia', 'Norway', 'Poland', 'Portugal', 'Moldova', 'Romania', 'Russia', 'Serbia', 'Slovakia', 'Slovenia', 'Spain', 'Sweden', 'Switzerland', 'Ukraine', 'United Kingdom']\n"
     ]
    }
   ],
   "source": [
    "#printing countries name\n",
    "print(df_melted['Country'].unique().tolist())"
   ]
  },
  {
   "cell_type": "code",
   "execution_count": 92,
   "metadata": {},
   "outputs": [],
   "source": [
    "df_melted.to_csv('df_melted') #Making a copy of cleaned data to csv file"
   ]
  },
  {
   "cell_type": "markdown",
   "metadata": {},
   "source": [
    "#### **Comparing the trend of production in tonnes of top 5 countries**"
   ]
  },
  {
   "cell_type": "code",
   "execution_count": 93,
   "metadata": {},
   "outputs": [],
   "source": [
    "# Creating a new data frame to sum production by year and country\n",
    "df_prod = df_melted.groupby(['Country', 'Year'])['Production_t'].aggregate('sum').reset_index()"
   ]
  },
  {
   "cell_type": "code",
   "execution_count": 94,
   "metadata": {},
   "outputs": [],
   "source": [
    "# Reshaping the data frame for creating a new column 'Total production in tonnes'\n",
    "df_prod_pv = pd.pivot(df_prod, index='Country', columns='Year', values='Production_t').reset_index()"
   ]
  },
  {
   "cell_type": "code",
   "execution_count": 95,
   "metadata": {},
   "outputs": [
    {
     "name": "stderr",
     "output_type": "stream",
     "text": [
      "C:\\Users\\grazk\\AppData\\Local\\Temp\\ipykernel_13140\\2908974201.py:1: FutureWarning: Dropping of nuisance columns in DataFrame reductions (with 'numeric_only=None') is deprecated; in a future version this will raise TypeError.  Select only valid columns before calling the reduction.\n",
      "  df_prod_pv['Total'] = df_prod_pv.sum(axis=1)\n"
     ]
    }
   ],
   "source": [
    "df_prod_pv['Total'] = df_prod_pv.sum(axis=1)"
   ]
  },
  {
   "cell_type": "code",
   "execution_count": 96,
   "metadata": {},
   "outputs": [],
   "source": [
    "# Sorting values to find out the top five crop producers\n",
    "df_prod_tfive = df_prod_pv.sort_values(by='Total', ascending=False).head(5)"
   ]
  },
  {
   "cell_type": "code",
   "execution_count": 97,
   "metadata": {},
   "outputs": [],
   "source": [
    "# Dropping the column 'Total' as it won't be used in plot\n",
    "df_prod_tfive.drop(['Total'], axis=1, inplace=True)"
   ]
  },
  {
   "cell_type": "code",
   "execution_count": 98,
   "metadata": {},
   "outputs": [],
   "source": [
    "#Reshaping the data frame for plotting\n",
    "df_unpivot = df_prod_tfive.melt(id_vars='Country', var_name='Year', value_name='Production_t')"
   ]
  },
  {
   "cell_type": "code",
   "execution_count": 99,
   "metadata": {},
   "outputs": [
    {
     "data": {
      "text/html": [
       "<div>\n",
       "<style scoped>\n",
       "    .dataframe tbody tr th:only-of-type {\n",
       "        vertical-align: middle;\n",
       "    }\n",
       "\n",
       "    .dataframe tbody tr th {\n",
       "        vertical-align: top;\n",
       "    }\n",
       "\n",
       "    .dataframe thead th {\n",
       "        text-align: right;\n",
       "    }\n",
       "</style>\n",
       "<table border=\"1\" class=\"dataframe\">\n",
       "  <thead>\n",
       "    <tr style=\"text-align: right;\">\n",
       "      <th></th>\n",
       "      <th>Country</th>\n",
       "      <th>Year</th>\n",
       "      <th>Production_t</th>\n",
       "    </tr>\n",
       "  </thead>\n",
       "  <tbody>\n",
       "    <tr>\n",
       "      <th>0</th>\n",
       "      <td>France</td>\n",
       "      <td>1961</td>\n",
       "      <td>136033512.0</td>\n",
       "    </tr>\n",
       "    <tr>\n",
       "      <th>1</th>\n",
       "      <td>Germany</td>\n",
       "      <td>1961</td>\n",
       "      <td>137213361.0</td>\n",
       "    </tr>\n",
       "  </tbody>\n",
       "</table>\n",
       "</div>"
      ],
      "text/plain": [
       "   Country  Year  Production_t\n",
       "0   France  1961   136033512.0\n",
       "1  Germany  1961   137213361.0"
      ]
     },
     "execution_count": 99,
     "metadata": {},
     "output_type": "execute_result"
    }
   ],
   "source": [
    "df_unpivot.head(2)"
   ]
  },
  {
   "cell_type": "code",
   "execution_count": 100,
   "metadata": {},
   "outputs": [
    {
     "data": {
      "text/plain": [
       "Text(0.5, 1.0, 'Top 5 countries in Crop production')"
      ]
     },
     "execution_count": 100,
     "metadata": {},
     "output_type": "execute_result"
    },
    {
     "data": {
      "image/png": "[encoded data removed]",
      "text/plain": [
       "<Figure size 1250x500 with 1 Axes>"
      ]
     },
     "metadata": {},
     "output_type": "display_data"
    }
   ],
   "source": [
    "\n",
    "# Changing seaborn plot size\n",
    "plot = sns.lineplot(data = df_unpivot, x= 'Year', y= 'Production_t', hue= 'Country', marker= '*')\n",
    "plot.legend(loc='upper right', bbox_to_anchor=(1.4, 0.8))\n",
    "plt.gcf().set_size_inches(12.5, 5)\n",
    "plt.title('Top 5 countries in Crop production')\n",
    "# plt.xlabel('Years')\n",
    "# plt.ylabel('tonnes')\n",
    "\n"
   ]
  },
  {
   "cell_type": "markdown",
   "metadata": {},
   "source": [
    "Russian crop production is sensitive to economic crises and has two notable drop downs in Y1998 (Russian rouble devaluing) and YY2008-2010 (global crisis). Opposite to Italy and Poland, France has increased it production. "
   ]
  },
  {
   "cell_type": "markdown",
   "metadata": {},
   "source": [
    "#### **Comparing the most popular agricultural items in tonnes**"
   ]
  },
  {
   "cell_type": "code",
   "execution_count": 101,
   "metadata": {},
   "outputs": [
    {
     "data": {
      "text/html": [
       "<div>\n",
       "<style scoped>\n",
       "    .dataframe tbody tr th:only-of-type {\n",
       "        vertical-align: middle;\n",
       "    }\n",
       "\n",
       "    .dataframe tbody tr th {\n",
       "        vertical-align: top;\n",
       "    }\n",
       "\n",
       "    .dataframe thead th {\n",
       "        text-align: right;\n",
       "    }\n",
       "</style>\n",
       "<table border=\"1\" class=\"dataframe\">\n",
       "  <thead>\n",
       "    <tr style=\"text-align: right;\">\n",
       "      <th></th>\n",
       "      <th>Year</th>\n",
       "      <th>Area_ha</th>\n",
       "      <th>Yield_hg_ha</th>\n",
       "      <th>Production_t</th>\n",
       "      <th>Yield_t_ha</th>\n",
       "    </tr>\n",
       "    <tr>\n",
       "      <th>Item</th>\n",
       "      <th></th>\n",
       "      <th></th>\n",
       "      <th></th>\n",
       "      <th></th>\n",
       "      <th></th>\n",
       "    </tr>\n",
       "  </thead>\n",
       "  <tbody>\n",
       "    <tr>\n",
       "      <th>Cereals, Total</th>\n",
       "      <td>3338443</td>\n",
       "      <td>5358896452</td>\n",
       "      <td>67902707</td>\n",
       "      <td>18530037826</td>\n",
       "      <td>6790.24</td>\n",
       "    </tr>\n",
       "    <tr>\n",
       "      <th>Sugar Crops Primary</th>\n",
       "      <td>2962884</td>\n",
       "      <td>202238673</td>\n",
       "      <td>640078744</td>\n",
       "      <td>8483854539</td>\n",
       "      <td>64007.99</td>\n",
       "    </tr>\n",
       "    <tr>\n",
       "      <th>Sugar beet</th>\n",
       "      <td>2962884</td>\n",
       "      <td>201908668</td>\n",
       "      <td>639731291</td>\n",
       "      <td>8461256394</td>\n",
       "      <td>63973.28</td>\n",
       "    </tr>\n",
       "    <tr>\n",
       "      <th>Wheat</th>\n",
       "      <td>3328358</td>\n",
       "      <td>2350593397</td>\n",
       "      <td>68503215</td>\n",
       "      <td>8288422540</td>\n",
       "      <td>6850.21</td>\n",
       "    </tr>\n",
       "    <tr>\n",
       "      <th>Roots and Tubers, Total</th>\n",
       "      <td>3563178</td>\n",
       "      <td>380659074</td>\n",
       "      <td>381499563</td>\n",
       "      <td>6981021890</td>\n",
       "      <td>38149.95</td>\n",
       "    </tr>\n",
       "    <tr>\n",
       "      <th>Potatoes</th>\n",
       "      <td>3563178</td>\n",
       "      <td>379950580</td>\n",
       "      <td>382042314</td>\n",
       "      <td>6973033314</td>\n",
       "      <td>38204.31</td>\n",
       "    </tr>\n",
       "    <tr>\n",
       "      <th>Fruit Primary</th>\n",
       "      <td>3387623</td>\n",
       "      <td>469114651</td>\n",
       "      <td>3652384440</td>\n",
       "      <td>4337886890</td>\n",
       "      <td>365238.52</td>\n",
       "    </tr>\n",
       "    <tr>\n",
       "      <th>Barley</th>\n",
       "      <td>3338443</td>\n",
       "      <td>1289035236</td>\n",
       "      <td>59009188</td>\n",
       "      <td>4163388325</td>\n",
       "      <td>5901.11</td>\n",
       "    </tr>\n",
       "    <tr>\n",
       "      <th>Vegetables Primary</th>\n",
       "      <td>3445768</td>\n",
       "      <td>207493015</td>\n",
       "      <td>396051964</td>\n",
       "      <td>3984466223</td>\n",
       "      <td>39605.33</td>\n",
       "    </tr>\n",
       "    <tr>\n",
       "      <th>Maize</th>\n",
       "      <td>2456235</td>\n",
       "      <td>675766098</td>\n",
       "      <td>70373385</td>\n",
       "      <td>3482486525</td>\n",
       "      <td>7037.21</td>\n",
       "    </tr>\n",
       "  </tbody>\n",
       "</table>\n",
       "</div>"
      ],
      "text/plain": [
       "                            Year     Area_ha  Yield_hg_ha  Production_t  \\\n",
       "Item                                                                      \n",
       "Cereals, Total           3338443  5358896452     67902707   18530037826   \n",
       "Sugar Crops Primary      2962884   202238673    640078744    8483854539   \n",
       "Sugar beet               2962884   201908668    639731291    8461256394   \n",
       "Wheat                    3328358  2350593397     68503215    8288422540   \n",
       "Roots and Tubers, Total  3563178   380659074    381499563    6981021890   \n",
       "Potatoes                 3563178   379950580    382042314    6973033314   \n",
       "Fruit Primary            3387623   469114651   3652384440    4337886890   \n",
       "Barley                   3338443  1289035236     59009188    4163388325   \n",
       "Vegetables Primary       3445768   207493015    396051964    3984466223   \n",
       "Maize                    2456235   675766098     70373385    3482486525   \n",
       "\n",
       "                         Yield_t_ha  \n",
       "Item                                 \n",
       "Cereals, Total              6790.24  \n",
       "Sugar Crops Primary        64007.99  \n",
       "Sugar beet                 63973.28  \n",
       "Wheat                       6850.21  \n",
       "Roots and Tubers, Total    38149.95  \n",
       "Potatoes                   38204.31  \n",
       "Fruit Primary             365238.52  \n",
       "Barley                      5901.11  \n",
       "Vegetables Primary         39605.33  \n",
       "Maize                       7037.21  "
      ]
     },
     "execution_count": 101,
     "metadata": {},
     "output_type": "execute_result"
    }
   ],
   "source": [
    "most_produced=df_melted.groupby(\"Item\").sum(numeric_only=True).sort_values(by=\"Production_t\", ascending=False)\n",
    "most_produced.head(10)\n",
    "#Surprisingly,  sugar beet is no 1"
   ]
  },
  {
   "cell_type": "code",
   "execution_count": 102,
   "metadata": {},
   "outputs": [
    {
     "data": {
      "text/html": [
       "<div>\n",
       "<style scoped>\n",
       "    .dataframe tbody tr th:only-of-type {\n",
       "        vertical-align: middle;\n",
       "    }\n",
       "\n",
       "    .dataframe tbody tr th {\n",
       "        vertical-align: top;\n",
       "    }\n",
       "\n",
       "    .dataframe thead th {\n",
       "        text-align: right;\n",
       "    }\n",
       "</style>\n",
       "<table border=\"1\" class=\"dataframe\">\n",
       "  <thead>\n",
       "    <tr style=\"text-align: right;\">\n",
       "      <th></th>\n",
       "      <th>Year</th>\n",
       "      <th>Area_ha</th>\n",
       "      <th>Yield_hg_ha</th>\n",
       "      <th>Production_t</th>\n",
       "      <th>Yield_t_ha</th>\n",
       "    </tr>\n",
       "    <tr>\n",
       "      <th>Item</th>\n",
       "      <th></th>\n",
       "      <th></th>\n",
       "      <th></th>\n",
       "      <th></th>\n",
       "      <th></th>\n",
       "    </tr>\n",
       "  </thead>\n",
       "  <tbody>\n",
       "    <tr>\n",
       "      <th>Cereals, Total</th>\n",
       "      <td>1513275</td>\n",
       "      <td>2391529627</td>\n",
       "      <td>35561636</td>\n",
       "      <td>9123571890</td>\n",
       "      <td>3556.08</td>\n",
       "    </tr>\n",
       "    <tr>\n",
       "      <th>Wheat</th>\n",
       "      <td>1503190</td>\n",
       "      <td>1166259144</td>\n",
       "      <td>34784213</td>\n",
       "      <td>4418408890</td>\n",
       "      <td>3478.34</td>\n",
       "    </tr>\n",
       "    <tr>\n",
       "      <th>Sugar Crops Primary</th>\n",
       "      <td>1296153</td>\n",
       "      <td>69711618</td>\n",
       "      <td>317291889</td>\n",
       "      <td>3539064550</td>\n",
       "      <td>31729.30</td>\n",
       "    </tr>\n",
       "    <tr>\n",
       "      <th>Sugar beet</th>\n",
       "      <td>1296153</td>\n",
       "      <td>69554101</td>\n",
       "      <td>316457017</td>\n",
       "      <td>3527852097</td>\n",
       "      <td>31645.81</td>\n",
       "    </tr>\n",
       "    <tr>\n",
       "      <th>Roots and Tubers, Total</th>\n",
       "      <td>1583570</td>\n",
       "      <td>125437458</td>\n",
       "      <td>187510957</td>\n",
       "      <td>2406413740</td>\n",
       "      <td>18751.05</td>\n",
       "    </tr>\n",
       "    <tr>\n",
       "      <th>Potatoes</th>\n",
       "      <td>1583570</td>\n",
       "      <td>125210337</td>\n",
       "      <td>188032428</td>\n",
       "      <td>2403933643</td>\n",
       "      <td>18803.26</td>\n",
       "    </tr>\n",
       "    <tr>\n",
       "      <th>Maize</th>\n",
       "      <td>1181810</td>\n",
       "      <td>308119028</td>\n",
       "      <td>39894093</td>\n",
       "      <td>1894874844</td>\n",
       "      <td>3989.38</td>\n",
       "    </tr>\n",
       "    <tr>\n",
       "      <th>Vegetables Primary</th>\n",
       "      <td>1543380</td>\n",
       "      <td>76067284</td>\n",
       "      <td>191727909</td>\n",
       "      <td>1766264295</td>\n",
       "      <td>19172.80</td>\n",
       "    </tr>\n",
       "    <tr>\n",
       "      <th>Barley</th>\n",
       "      <td>1513275</td>\n",
       "      <td>525591266</td>\n",
       "      <td>29917028</td>\n",
       "      <td>1765153413</td>\n",
       "      <td>2991.86</td>\n",
       "    </tr>\n",
       "    <tr>\n",
       "      <th>Fruit Primary</th>\n",
       "      <td>1503190</td>\n",
       "      <td>158087012</td>\n",
       "      <td>78755369</td>\n",
       "      <td>1588201760</td>\n",
       "      <td>7875.56</td>\n",
       "    </tr>\n",
       "  </tbody>\n",
       "</table>\n",
       "</div>"
      ],
      "text/plain": [
       "                            Year     Area_ha  Yield_hg_ha  Production_t  \\\n",
       "Item                                                                      \n",
       "Cereals, Total           1513275  2391529627     35561636    9123571890   \n",
       "Wheat                    1503190  1166259144     34784213    4418408890   \n",
       "Sugar Crops Primary      1296153    69711618    317291889    3539064550   \n",
       "Sugar beet               1296153    69554101    316457017    3527852097   \n",
       "Roots and Tubers, Total  1583570   125437458    187510957    2406413740   \n",
       "Potatoes                 1583570   125210337    188032428    2403933643   \n",
       "Maize                    1181810   308119028     39894093    1894874844   \n",
       "Vegetables Primary       1543380    76067284    191727909    1766264295   \n",
       "Barley                   1513275   525591266     29917028    1765153413   \n",
       "Fruit Primary            1503190   158087012     78755369    1588201760   \n",
       "\n",
       "                         Yield_t_ha  \n",
       "Item                                 \n",
       "Cereals, Total              3556.08  \n",
       "Wheat                       3478.34  \n",
       "Sugar Crops Primary        31729.30  \n",
       "Sugar beet                 31645.81  \n",
       "Roots and Tubers, Total    18751.05  \n",
       "Potatoes                   18803.26  \n",
       "Maize                       3989.38  \n",
       "Vegetables Primary         19172.80  \n",
       "Barley                      2991.86  \n",
       "Fruit Primary               7875.56  "
      ]
     },
     "execution_count": 102,
     "metadata": {},
     "output_type": "execute_result"
    }
   ],
   "source": [
    "# Might be skewed because of an unequal total number of years might be available for some items.\n",
    "# Comparing items starting with Y2000.\n",
    "\n",
    "most_produced_2019 = df_melted.loc[df_melted['Year'] >= 2000]\n",
    "most_produced_2019.groupby(\"Item\").sum(numeric_only=True).sort_values(by=\"Production_t\", ascending=False).head(10)"
   ]
  },
  {
   "cell_type": "markdown",
   "metadata": {},
   "source": [
    "Top 5 are:\n",
    "* Wheat\n",
    "* Sugar beet\n",
    "* Maize\n",
    "* Potatoes\n",
    "* Barley"
   ]
  },
  {
   "cell_type": "markdown",
   "metadata": {},
   "source": [
    "As sugar beets are not directly used for food and barley is mostly used for feeding and beer production, they won't be analyzed.\n",
    "This leaves 3 main food items: wheat, potatoes, and maize."
   ]
  },
  {
   "cell_type": "markdown",
   "metadata": {},
   "source": [
    "**Comparing crop production/ agricultural area/ yield production per tonne by countries**"
   ]
  },
  {
   "cell_type": "code",
   "execution_count": 103,
   "metadata": {},
   "outputs": [],
   "source": [
    "def plot_agric_prod(data = df_melted):\n",
    "    country_list = data['Country'].tolist()\n",
    "    ask_country_list = []\n",
    "    crop_list = data['Item'].tolist()    \n",
    "    good = True\n",
    "    while good:\n",
    "        country = (input(\"Enter what country you want to see\"))\n",
    "        country = country.capitalize()\n",
    "        if country not in country_list:\n",
    "            print(\"No such country, sorry\")            \n",
    "        elif country in ask_country_list:\n",
    "            print(\"You already asked for this country\")            \n",
    "        else:\n",
    "            ask_country_list += [country]\n",
    "        \n",
    "        while good:\n",
    "            is_enough = input(\"Do you want to continue picking countries? [y/n]\")\n",
    "            if is_enough == \"n\":\n",
    "                good = False\n",
    "            elif is_enough == 'y':\n",
    "                break\n",
    "            else:\n",
    "                print(\"It seems like you pressed the wrong key. Please try again\")\n",
    "                continue               \n",
    "            \n",
    "    while True:\n",
    "        crop = input(\"What crop do you want to see?\")\n",
    "        crop = crop.capitalize()\n",
    "        if crop not in crop_list:\n",
    "            print(\"No such crop, please try again\")\n",
    "            continue\n",
    "        else:\n",
    "            break   \n",
    "    fig_data = data.loc[(data['Item'] == crop) & (data['Country'].isin(ask_country_list))]\n",
    "    #dataframe sorted by user choise of country and crop\n",
    "    while True:\n",
    "        agric_unit = ['Area_ha', 'Production_t', 'Yield_t_ha']\n",
    "        category = int(input(\"What do you want to plot? Agricultural area: type 0; Total production: type 1; Yield tonnes per ha: type 2. [0/1/2]\" ))\n",
    "        if category not in [0, 1, 2]:\n",
    "            print(\"Did you accidentally press the wrong key? Please try again\")\n",
    "            continue\n",
    "        else:\n",
    "            break\n",
    "    #now continue with the figure\n",
    "    plt.figure(figsize = (12.5, 5))\n",
    "    fig1 = sns.lineplot(data = fig_data, x= 'Year', y= agric_unit[category], hue= 'Country', marker= 'o')\n",
    "    fig1.legend(loc='upper right', bbox_to_anchor=(1.07, 1.0))\n",
    "    x_tick_list = fig_data['Year'].tolist()\n",
    "    plt.xticks(x_tick_list)\n",
    "    plt.xticks(rotation = 90)\n",
    "    plt.title(\"Production of \" + crop)    \n",
    "             \n",
    "    \n",
    "    return fig1"
   ]
  },
  {
   "cell_type": "code",
   "execution_count": 105,
   "metadata": {},
   "outputs": [
    {
     "data": {
      "text/plain": [
       "<AxesSubplot: title={'center': 'Production of Potatoes'}, xlabel='Year', ylabel='Production_t'>"
      ]
     },
     "execution_count": 105,
     "metadata": {},
     "output_type": "execute_result"
    },
    {
     "data": {
      "image/png": "[encoded data removed]",
      "text/plain": [
       "<Figure size 1250x500 with 1 Axes>"
      ]
     },
     "metadata": {},
     "output_type": "display_data"
    }
   ],
   "source": [
    "plot_agric_prod()"
   ]
  },
  {
   "cell_type": "code",
   "execution_count": 106,
   "metadata": {},
   "outputs": [],
   "source": [
    "#function to show whatever crop the user choses and whatever characteristics, area or production or yield per ha\n",
    "def barplot_by_country(data = df_melted, title = ''):\n",
    "    crop_list = data['Item'].tolist() \n",
    "    while True:\n",
    "        crop = input(\"What crop do you want to see?\")\n",
    "        crop = crop.capitalize()\n",
    "        if crop not in crop_list:\n",
    "            print(\"No such crop, please try again\")\n",
    "            continue\n",
    "        else:\n",
    "            break\n",
    "        \n",
    "    while True:\n",
    "        agric_unit = ['Area_ha', 'Production_t', 'Yield_t_ha']\n",
    "        category = int(input(\"What do you want to plot? Agricultural area: type 0; Total production: type 1; Yield tonnes per ha: type 2. [0/1/2]\" ))\n",
    "        if category not in [0, 1, 2]:\n",
    "            print(\"Did you accidentally press the wrong key? Please try again\")\n",
    "            continue\n",
    "        else:\n",
    "            break\n",
    "    \n",
    "    plt.figure(figsize = (12.5, 5))\n",
    "    fig_data =  data.loc[data['Item'] == crop].sort_values(by = agric_unit[category], ascending= False)          \n",
    "    fig1 = sns.barplot(fig_data, x= \"Country\", y= agric_unit[category])\n",
    "    plt.xlabel(\"Country\")    \n",
    "    plt.xticks(rotation = 90)\n",
    "    plt.title(title)\n",
    "    \n",
    "    return fig1"
   ]
  },
  {
   "cell_type": "code",
   "execution_count": 107,
   "metadata": {},
   "outputs": [
    {
     "data": {
      "text/plain": [
       "<AxesSubplot: xlabel='Country', ylabel='Production_t'>"
      ]
     },
     "execution_count": 107,
     "metadata": {},
     "output_type": "execute_result"
    },
    {
     "data": {
      "image/png": "[encoded data removed]",
      "text/plain": [
       "<Figure size 1250x500 with 1 Axes>"
      ]
     },
     "metadata": {},
     "output_type": "display_data"
    }
   ],
   "source": [
    "barplot_by_country()"
   ]
  },
  {
   "cell_type": "code",
   "execution_count": null,
   "metadata": {},
   "outputs": [],
   "source": []
  },
  {
   "cell_type": "code",
   "execution_count": null,
   "metadata": {},
   "outputs": [],
   "source": []
  }
 ],
 "metadata": {
  "kernelspec": {
   "display_name": "Python 3.10.6 ('venv': venv)",
   "language": "python",
   "name": "python3"
  },
  "language_info": {
   "codemirror_mode": {
    "name": "ipython",
    "version": 3
   },
   "file_extension": ".py",
   "mimetype": "text/x-python",
   "name": "python",
   "nbconvert_exporter": "python",
   "pygments_lexer": "ipython3",
   "version": "3.10.6"
  },
  "orig_nbformat": 4,
  "vscode": {
   "interpreter": {
    "hash": "3a02c2c5e2ea07a08342dc3b0617d633531a0a20993352e8d8cb30cc84856c47"
   }
  }
 },
 "nbformat": 4,
 "nbformat_minor": 2
}
